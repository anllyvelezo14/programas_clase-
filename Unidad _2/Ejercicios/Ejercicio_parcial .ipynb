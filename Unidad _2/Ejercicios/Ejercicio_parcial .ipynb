{
 "cells": [
  {
   "cell_type": "code",
   "execution_count": 11,
   "metadata": {},
   "outputs": [
    {
     "data": {
      "image/png": "[encoded data removed]",
      "text/plain": [
       "<matplotlib.figure.Figure at 0x7fa695e8d240>"
      ]
     },
     "metadata": {},
     "output_type": "display_data"
    },
    {
     "name": "stdout",
     "output_type": "stream",
     "text": [
      "p=-1.550000, f(p)=-354.454028, error=0.000000 \n",
      "f(x)=0 con x=-1.55000\n"
     ]
    }
   ],
   "source": [
    "import numpy as np\n",
    "import matplotlib.pyplot as plt\n",
    "\n",
    "x=2.3 # ft\n",
    "t=3.# s\n",
    "g=32.17 # ft/s**2\n",
    "\n",
    "def f(w):\n",
    "    value=((g/(2*w**2))*(((np.exp(w*t)-np.exp(-w*t))/2)-np.sin(w*t)))+x \n",
    "    return value\n",
    "def sign(w):\n",
    "    if w>0:\n",
    "        return 1\n",
    "    elif w<0:\n",
    "        return -1\n",
    "    else:\n",
    "        return 0\n",
    "    \n",
    "w=np.arange(-1,0,0.1)\n",
    "y=[]\n",
    "for i in range(0,len(w)):\n",
    "    y.append(f(w[i]))\n",
    "plt.plot(w,y)\n",
    "plt.grid()\n",
    "plt.show()\n",
    "\n",
    "#Intervalo inicial\n",
    "p1=-3 #ptos extremos del intervalo\n",
    "p2=-0.1\n",
    "Nmax=1000 #Número máximo de iteraciones\n",
    "Tol=1.0e-5\n",
    "error=1.0\n",
    "iteracion=0\n",
    "while(error>Tol):\n",
    "    p=(p1+p2)*.5\n",
    "    if(sign(f(p))*sign(f(p1))<0):\n",
    "        p2=p\n",
    "    if(sign(f(p))*sign(f(p2))<0):\n",
    "        p1=p\n",
    "    error=abs(p-(p1+p2)*0.5)\n",
    "    iteracion+=1\n",
    "    print(\"p=%.6f, f(p)=%.6f, error=%.6f \"%(p,f(p),error))\n",
    "    if(iteracion>=Nmax):\n",
    "        print(\"se ha alcanzado el número máximo de iteraciones\")\n",
    "        break\n",
    "print(\"f(x)=0 con x=%.5f\"%(p))"
   ]
  },
  {
   "cell_type": "code",
   "execution_count": null,
   "metadata": {},
   "outputs": [],
   "source": []
  },
  {
   "cell_type": "code",
   "execution_count": null,
   "metadata": {},
   "outputs": [],
   "source": []
  }
 ],
 "metadata": {
  "kernelspec": {
   "display_name": "Python 3",
   "language": "python",
   "name": "python3"
  },
  "language_info": {
   "codemirror_mode": {
    "name": "ipython",
    "version": 3
   },
   "file_extension": ".py",
   "mimetype": "text/x-python",
   "name": "python",
   "nbconvert_exporter": "python",
   "pygments_lexer": "ipython3",
   "version": "3.6.4"
  }
 },
 "nbformat": 4,
 "nbformat_minor": 2
}
