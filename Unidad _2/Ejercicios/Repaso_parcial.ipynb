{
 "cells": [
  {
   "cell_type": "markdown",
   "metadata": {},
   "source": [
    "# excersise set 2.1"
   ]
  },
  {
   "cell_type": "markdown",
   "metadata": {},
   "source": [
    "(5) Use the Bisection method to find solutions accurate to within 10 −5 for the following problems"
   ]
  },
  {
   "cell_type": "code",
   "execution_count": 8,
   "metadata": {},
   "outputs": [
    {
     "data": {
      "image/png": "[encoded data removed]",
      "text/plain": [
       "<matplotlib.figure.Figure at 0x7f5a4fc40f98>"
      ]
     },
     "metadata": {},
     "output_type": "display_data"
    },
    {
     "name": "stdout",
     "output_type": "stream",
     "text": [
      "p=-2.500000, f(p)=-3.668311, error=0.250000 \n",
      "p=-2.250000, f(p)=-0.613919, error=0.125000 \n",
      "p=-2.125000, f(p)=0.630247, error=0.062500 \n",
      "p=-2.187500, f(p)=0.038076, error=0.031250 \n",
      "p=-2.218750, f(p)=-0.280836, error=0.015625 \n",
      "p=-2.203125, f(p)=-0.119557, error=0.007812 \n",
      "p=-2.195312, f(p)=-0.040279, error=0.003906 \n",
      "p=-2.191406, f(p)=-0.000985, error=0.001953 \n",
      "p=-2.189453, f(p)=0.018574, error=0.000977 \n",
      "p=-2.190430, f(p)=0.008802, error=0.000488 \n",
      "p=-2.190918, f(p)=0.003910, error=0.000244 \n",
      "p=-2.191162, f(p)=0.001463, error=0.000122 \n",
      "p=-2.191284, f(p)=0.000239, error=0.000061 \n",
      "p=-2.191345, f(p)=-0.000373, error=0.000031 \n",
      "p=-2.191315, f(p)=-0.000067, error=0.000015 \n",
      "p=-2.191299, f(p)=0.000086, error=0.000008 \n",
      "f(x)=0 con x=-2.19130\n"
     ]
    }
   ],
   "source": [
    "import numpy as np\n",
    "import matplotlib.pyplot as plt\n",
    "\n",
    "def f(x):\n",
    "    value= 2*x*np.cos(2*x) - (x + 1)**2 #ecuación dada\n",
    "    return value\n",
    "def sign(x):\n",
    "    if x>0:\n",
    "        return 1\n",
    "    elif x<0:\n",
    "        return -1\n",
    "    else:\n",
    "        return 0\n",
    "    \n",
    "x=np.arange(-3,-2,0.1)\n",
    "y=[]\n",
    "for i in range(0,len(x)):\n",
    "    y.append(f(x[i]))\n",
    "plt.plot(x,y)\n",
    "plt.grid()\n",
    "plt.show()\n",
    "\n",
    "#Intervalo inicial\n",
    "p1=-3 #ptos extremos del intervalo\n",
    "p2=-2\n",
    "Nmax=1000 #Número máximo de iteraciones\n",
    "Tol=1.0e-5\n",
    "error=1.0\n",
    "iteracion=0\n",
    "while(error>Tol):\n",
    "    p=(p1+p2)*.5\n",
    "    if(sign(f(p))*sign(f(p1))<0):\n",
    "        p2=p\n",
    "    if(sign(f(p))*sign(f(p2))<0):\n",
    "        p1=p\n",
    "    error=abs(p-(p1+p2)*0.5)\n",
    "    iteracion+=1\n",
    "    print(\"p=%.6f, f(p)=%.6f, error=%.6f \"%(p,f(p),error))\n",
    "    if(iteracion>=Nmax):\n",
    "        print(\"se ha alcanzado el número máximo de iteraciones\")\n",
    "        break\n",
    "print(\"f(x)=0 con x=%.5f\"%(p))\n"
   ]
  },
  {
   "cell_type": "markdown",
   "metadata": {},
   "source": [
    "(30) A particle starts at rest on a smooth inclined plane whose angle θ is changing at a constant rate....."
   ]
  },
  {
   "cell_type": "code",
   "execution_count": 12,
   "metadata": {},
   "outputs": [
    {
     "ename": "AttributeError",
     "evalue": "module 'numpy' has no attribute 'ex'",
     "output_type": "error",
     "traceback": [
      "\u001b[0;31m---------------------------------------------------------------------------\u001b[0m",
      "\u001b[0;31mAttributeError\u001b[0m                            Traceback (most recent call last)",
      "\u001b[0;32m<ipython-input-12-e0efa09ae2c0>\u001b[0m in \u001b[0;36m<module>\u001b[0;34m()\u001b[0m\n\u001b[1;32m     20\u001b[0m \u001b[0my\u001b[0m\u001b[0;34m=\u001b[0m\u001b[0;34m[\u001b[0m\u001b[0;34m]\u001b[0m\u001b[0;34m\u001b[0m\u001b[0m\n\u001b[1;32m     21\u001b[0m \u001b[0;32mfor\u001b[0m \u001b[0mi\u001b[0m \u001b[0;32min\u001b[0m \u001b[0mrange\u001b[0m\u001b[0;34m(\u001b[0m\u001b[0;36m0\u001b[0m\u001b[0;34m,\u001b[0m\u001b[0mlen\u001b[0m\u001b[0;34m(\u001b[0m\u001b[0mw\u001b[0m\u001b[0;34m)\u001b[0m\u001b[0;34m)\u001b[0m\u001b[0;34m:\u001b[0m\u001b[0;34m\u001b[0m\u001b[0m\n\u001b[0;32m---> 22\u001b[0;31m     \u001b[0my\u001b[0m\u001b[0;34m.\u001b[0m\u001b[0mappend\u001b[0m\u001b[0;34m(\u001b[0m\u001b[0mf\u001b[0m\u001b[0;34m(\u001b[0m\u001b[0mw\u001b[0m\u001b[0;34m[\u001b[0m\u001b[0mi\u001b[0m\u001b[0;34m]\u001b[0m\u001b[0;34m)\u001b[0m\u001b[0;34m)\u001b[0m\u001b[0;34m\u001b[0m\u001b[0m\n\u001b[0m\u001b[1;32m     23\u001b[0m \u001b[0mplt\u001b[0m\u001b[0;34m.\u001b[0m\u001b[0mplot\u001b[0m\u001b[0;34m(\u001b[0m\u001b[0mw\u001b[0m\u001b[0;34m,\u001b[0m\u001b[0my\u001b[0m\u001b[0;34m)\u001b[0m\u001b[0;34m\u001b[0m\u001b[0m\n\u001b[1;32m     24\u001b[0m \u001b[0mplt\u001b[0m\u001b[0;34m.\u001b[0m\u001b[0mgrid\u001b[0m\u001b[0;34m(\u001b[0m\u001b[0;34m)\u001b[0m\u001b[0;34m\u001b[0m\u001b[0m\n",
      "\u001b[0;32m<ipython-input-12-e0efa09ae2c0>\u001b[0m in \u001b[0;36mf\u001b[0;34m(w)\u001b[0m\n\u001b[1;32m      7\u001b[0m \u001b[0;34m\u001b[0m\u001b[0m\n\u001b[1;32m      8\u001b[0m \u001b[0;32mdef\u001b[0m \u001b[0mf\u001b[0m\u001b[0;34m(\u001b[0m\u001b[0mw\u001b[0m\u001b[0;34m)\u001b[0m\u001b[0;34m:\u001b[0m\u001b[0;34m\u001b[0m\u001b[0m\n\u001b[0;32m----> 9\u001b[0;31m     \u001b[0mvalue\u001b[0m\u001b[0;34m=\u001b[0m\u001b[0;34m(\u001b[0m\u001b[0;34m(\u001b[0m\u001b[0;34m-\u001b[0m\u001b[0mg\u001b[0m\u001b[0;34m/\u001b[0m\u001b[0;36m2\u001b[0m\u001b[0;34m*\u001b[0m\u001b[0mw\u001b[0m\u001b[0;34m**\u001b[0m\u001b[0;36m2\u001b[0m\u001b[0;34m)\u001b[0m\u001b[0;34m*\u001b[0m\u001b[0;34m(\u001b[0m\u001b[0;34m(\u001b[0m\u001b[0;34m(\u001b[0m\u001b[0mnp\u001b[0m\u001b[0;34m.\u001b[0m\u001b[0mexp\u001b[0m\u001b[0;34m(\u001b[0m\u001b[0mw\u001b[0m\u001b[0;34m*\u001b[0m\u001b[0mt\u001b[0m\u001b[0;34m)\u001b[0m\u001b[0;34m-\u001b[0m\u001b[0mnp\u001b[0m\u001b[0;34m.\u001b[0m\u001b[0mex\u001b[0m\u001b[0;34m(\u001b[0m\u001b[0;34m-\u001b[0m\u001b[0mw\u001b[0m\u001b[0;34m*\u001b[0m\u001b[0mt\u001b[0m\u001b[0;34m)\u001b[0m\u001b[0;34m)\u001b[0m\u001b[0;34m/\u001b[0m\u001b[0;36m2\u001b[0m\u001b[0;34m)\u001b[0m\u001b[0;34m-\u001b[0m\u001b[0mnp\u001b[0m\u001b[0;34m.\u001b[0m\u001b[0msin\u001b[0m\u001b[0;34m(\u001b[0m\u001b[0mw\u001b[0m\u001b[0;34m*\u001b[0m\u001b[0mt\u001b[0m\u001b[0;34m)\u001b[0m\u001b[0;34m)\u001b[0m\u001b[0;34m)\u001b[0m\u001b[0;34m-\u001b[0m\u001b[0mx\u001b[0m \u001b[0;31m#ecuación dada\u001b[0m\u001b[0;34m\u001b[0m\u001b[0m\n\u001b[0m\u001b[1;32m     10\u001b[0m     \u001b[0;32mreturn\u001b[0m \u001b[0mvalue\u001b[0m\u001b[0;34m\u001b[0m\u001b[0m\n\u001b[1;32m     11\u001b[0m \u001b[0;32mdef\u001b[0m \u001b[0msign\u001b[0m\u001b[0;34m(\u001b[0m\u001b[0mw\u001b[0m\u001b[0;34m)\u001b[0m\u001b[0;34m:\u001b[0m\u001b[0;34m\u001b[0m\u001b[0m\n",
      "\u001b[0;31mAttributeError\u001b[0m: module 'numpy' has no attribute 'ex'"
     ]
    }
   ],
   "source": [
    "import numpy as np\n",
    "import matplotlib.pyplot as plt\n",
    "\n",
    "x=1.7 # ft\n",
    "t=1.# s\n",
    "g=32.17 # ft/s**2\n",
    "\n",
    "def f(w):\n",
    "    value=((-g/2*w**2)*(((np.exp(w*t)-np.ex(-w*t))/2)-np.sin(w*t)))-x #ecuación dada\n",
    "    return value\n",
    "def sign(w):\n",
    "    if w>0:\n",
    "        return 1\n",
    "    elif w<0:\n",
    "        return -1\n",
    "    else:\n",
    "        return 0\n",
    "    \n",
    "w=np.arange(-3,0,0.1)\n",
    "y=[]\n",
    "for i in range(0,len(w)):\n",
    "    y.append(f(w[i]))\n",
    "plt.plot(w,y)\n",
    "plt.grid()\n",
    "plt.show()\n",
    "\n",
    "#Intervalo inicial\n",
    "p1=-3 #ptos extremos del intervalo\n",
    "p2=-2\n",
    "Nmax=1000 #Número máximo de iteraciones\n",
    "Tol=1.0e-5\n",
    "error=1.0\n",
    "iteracion=0\n",
    "while(error>Tol):\n",
    "    p=(p1+p2)*.5\n",
    "    if(sign(f(p))*sign(f(p1))<0):\n",
    "        p2=p\n",
    "    if(sign(f(p))*sign(f(p2))<0):\n",
    "        p1=p\n",
    "    error=abs(p-(p1+p2)*0.5)\n",
    "    iteracion+=1\n",
    "    print(\"p=%.6f, f(p)=%.6f, error=%.6f \"%(p,f(p),error))\n",
    "    if(iteracion>=Nmax):\n",
    "        print(\"se ha alcanzado el número máximo de iteraciones\")\n",
    "        break\n",
    "print(\"f(x)=0 con x=%.5f\"%(p))\n"
   ]
  },
  {
   "cell_type": "code",
   "execution_count": null,
   "metadata": {},
   "outputs": [],
   "source": []
  }
 ],
 "metadata": {
  "kernelspec": {
   "display_name": "Python 3",
   "language": "python",
   "name": "python3"
  },
  "language_info": {
   "codemirror_mode": {
    "name": "ipython",
    "version": 3
   },
   "file_extension": ".py",
   "mimetype": "text/x-python",
   "name": "python",
   "nbconvert_exporter": "python",
   "pygments_lexer": "ipython3",
   "version": "3.6.4"
  }
 },
 "nbformat": 4,
 "nbformat_minor": 2
}
