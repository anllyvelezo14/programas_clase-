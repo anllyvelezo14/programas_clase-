{
 "cells": [
  {
   "cell_type": "markdown",
   "metadata": {},
   "source": [
    "Ejercicios set 2.3 pag 75 Burden"
   ]
  },
  {
   "cell_type": "code",
   "execution_count": 6,
   "metadata": {},
   "outputs": [
    {
     "data": {
      "image/png": "[encoded data removed]",
      "text/plain": [
       "<matplotlib.figure.Figure at 0x7f7729cdc518>"
      ]
     },
     "metadata": {},
     "output_type": "display_data"
    },
    {
     "name": "stdout",
     "output_type": "stream",
     "text": [
      "f(p)=143.06700 para p=12.36375\n",
      "f(p)=27.02586 para p=6.06546\n",
      "f(p)=21.02897 para p=3.35496\n",
      "f(p)=-1.89966 para p=-1.22409\n",
      "f(p)=0.06279 para p=-1.38435\n",
      "f(p)=0.00005 para p=-1.37937\n",
      "f(p)=0.00000 para p=-1.37936\n",
      "la raiz de la funcion f(x)=0.000000  es x=-1.379365 con un error=0.000004\n"
     ]
    }
   ],
   "source": [
    "import numpy as np\n",
    "import matplotlib.pyplot as plt\n",
    "\n",
    "#def funcion y def derivada de la funcion\n",
    "def f(x):\n",
    "    value=(x**2)-10*np.cos(x)\n",
    "    return value\n",
    "def dfdx(x):\n",
    "    value=(2*x)+10*np.sin(x)\n",
    "    return value\n",
    "    \n",
    "    \n",
    "#graficación de la función\n",
    "x=np.arange(1,3,.1)\n",
    "y=f(x)\n",
    "plt.plot(x,y)\n",
    "plt.grid()\n",
    "plt.show()\n",
    "\n",
    "p_prev=25. #punto inicial \n",
    "Tol=1.0e-5\n",
    "Nmax=1000\n",
    "error=1.0\n",
    "iteracion=0\n",
    "while(error>Tol):\n",
    "    p=p_prev-f(p_prev)/dfdx(p_prev)\n",
    "    error=abs(p-p_prev)\n",
    "    p_prev=p\n",
    "    iteracion=+1\n",
    "    print(\"f(p)=%.5f para p=%.5f\"%(f(p), p))\n",
    "    if(iteracion>=Nmax):\n",
    "        print(\"El método no converge\")\n",
    "        break  \n",
    "print(\"la raiz de la funcion f(x)=%.6f  es x=%.6f con un error=%.6f\"%(f(p), p,error))"
   ]
  },
  {
   "cell_type": "code",
   "execution_count": 17,
   "metadata": {},
   "outputs": [
    {
     "data": {
      "image/png": "[encoded data removed]",
      "text/plain": [
       "<matplotlib.figure.Figure at 0x7f7729bf0588>"
      ]
     },
     "metadata": {},
     "output_type": "display_data"
    },
    {
     "name": "stdout",
     "output_type": "stream",
     "text": [
      "f(p)=1.72970 para p=0.96498\n",
      "f(p)=0.00887 para p=0.96241\n",
      "f(p)=0.00000 para p=0.96240\n",
      "f(p)=0.00000 para p=0.96240\n",
      "f(p)=0.00000 para p=0.96240\n",
      "la raiz de la funcion f(x)=0.000000  es x=0.962398 con un error=0.000000\n"
     ]
    }
   ],
   "source": [
    "import numpy as np\n",
    "import matplotlib.pyplot as plt\n",
    "\n",
    "#def funcion y def derivada de la funcion\n",
    "def f(x):\n",
    "    value=(230*x**4)+(18*x**3)+(9*x**2)-(221*x)-9\n",
    "    return value\n",
    "def dfdx(x):\n",
    "    value=(230*4*x**3)+(18*3*x**2)+(18*x)-(221)\n",
    "    return value\n",
    "    \n",
    "    \n",
    "#graficación de la función\n",
    "x=np.arange(0,1,.1)\n",
    "y=f(x)\n",
    "plt.plot(x,y)\n",
    "plt.grid()\n",
    "plt.show()\n",
    "\n",
    "p_prev=1. #punto inicial \n",
    "Tol=1.0e-16\n",
    "Nmax=1000\n",
    "error=1.0\n",
    "iteracion=0\n",
    "while(error>Tol):\n",
    "    p=p_prev-f(p_prev)/dfdx(p_prev)\n",
    "    error=abs(p-p_prev)\n",
    "    p_prev=p\n",
    "    iteracion=+1\n",
    "    print(\"f(p)=%.5f para p=%.5f\"%(f(p), p))\n",
    "    if(iteracion>=Nmax):\n",
    "        print(\"El método no converge\")\n",
    "        break  \n",
    "print(\"la raiz de la funcion f(x)=%.6f  es x=%.6f con un error=%.6f\"%(f(p), p,error))"
   ]
  },
  {
   "cell_type": "code",
   "execution_count": null,
   "metadata": {},
   "outputs": [],
   "source": []
  }
 ],
 "metadata": {
  "kernelspec": {
   "display_name": "Python 3",
   "language": "python",
   "name": "python3"
  },
  "language_info": {
   "codemirror_mode": {
    "name": "ipython",
    "version": 3
   },
   "file_extension": ".py",
   "mimetype": "text/x-python",
   "name": "python",
   "nbconvert_exporter": "python",
   "pygments_lexer": "ipython3",
   "version": "3.6.4"
  }
 },
 "nbformat": 4,
 "nbformat_minor": 2
}
