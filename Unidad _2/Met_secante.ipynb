{
 "cells": [
  {
   "cell_type": "code",
   "execution_count": 5,
   "metadata": {},
   "outputs": [],
   "source": [
    "import numpy as np\n",
    "import matplotlib.pyplot as plt"
   ]
  },
  {
   "cell_type": "code",
   "execution_count": 6,
   "metadata": {},
   "outputs": [],
   "source": [
    "#def función\n",
    "def f(x):\n",
    "    return np.cos(x)-x"
   ]
  },
  {
   "cell_type": "code",
   "execution_count": 7,
   "metadata": {},
   "outputs": [
    {
     "data": {
      "image/png": "[encoded data removed]",
      "text/plain": [
       "<Figure size 432x288 with 1 Axes>"
      ]
     },
     "metadata": {
      "needs_background": "light"
     },
     "output_type": "display_data"
    }
   ],
   "source": [
    "x=np.arange(0,10,.1)\n",
    "y=f(x)\n",
    "plt.plot(x,y)\n",
    "plt.grid()\n",
    "plt.show()"
   ]
  },
  {
   "cell_type": "code",
   "execution_count": 8,
   "metadata": {},
   "outputs": [
    {
     "name": "stdout",
     "output_type": "stream",
     "text": [
      "p= -0.6093912418802381 f(p)= 1.4293878455468423 error=5.6093912418802381\n",
      "p= 0.6952546381233660 f(p)= 0.0726359722233905 error=1.3046458800036040\n",
      "p= 0.7651010291728741 f(p)= -0.0437886418578350 error=0.0698463910495082\n",
      "p= 0.7388309948947669 f(p)= 0.0004253050808629 error=0.0262700342781073\n",
      "p= 0.7390836929646409 f(p)= 0.0000024104198283 error=0.0002526980698740\n",
      "p= 0.7390851332959913 f(p)= -0.0000000001352792 error=0.0000014403313504\n",
      "p= 0.7390851332151607 f(p)= 0.0000000000000000 error=0.0000000000808307\n",
      "p= 0.7390851332151607 f(p)= 0.0000000000000000 error=0.0000000000000000\n",
      "la raiz de la función es: 0.739085\n"
     ]
    }
   ],
   "source": [
    "#intervalo\n",
    "p1=-3.0\n",
    "p2=5.0\n",
    "Tol=1e-16\n",
    "error=1\n",
    "Nmax=1000\n",
    "i=0\n",
    "while(error>Tol):\n",
    "    p=p2-((p2-p1)*func(p2))/(func(p2)-func(p1))\n",
    "    error=abs(p-p2)\n",
    "    i=i+1\n",
    "    p1=p2\n",
    "    p2=p\n",
    "    if(i>Nmax):\n",
    "        print(\"El método no converge  después de %i iteraciones\"%(Nmax))\n",
    "        break\n",
    "    print(\"p= %.16f f(p)= %.16f error=%.16f\"%(p2,func(p2),error))\n",
    "  \n",
    "print(\"la raiz de la función es: %.6f\"%(p))"
   ]
  },
  {
   "cell_type": "code",
   "execution_count": null,
   "metadata": {},
   "outputs": [],
   "source": []
  }
 ],
 "metadata": {
  "kernelspec": {
   "display_name": "Python 3",
   "language": "python",
   "name": "python3"
  },
  "language_info": {
   "codemirror_mode": {
    "name": "ipython",
    "version": 3
   },
   "file_extension": ".py",
   "mimetype": "text/x-python",
   "name": "python",
   "nbconvert_exporter": "python",
   "pygments_lexer": "ipython3",
   "version": "3.6.6"
  }
 },
 "nbformat": 4,
 "nbformat_minor": 2
}
