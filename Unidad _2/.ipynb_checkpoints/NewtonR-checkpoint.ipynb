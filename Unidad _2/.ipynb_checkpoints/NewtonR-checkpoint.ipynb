{
 "cells": [
  {
   "cell_type": "markdown",
   "metadata": {},
   "source": [
    "## Metodo de Newton Raphson"
   ]
  },
  {
   "cell_type": "code",
   "execution_count": null,
   "metadata": {},
   "outputs": [],
   "source": [
    "import numpy as np"
   ]
  },
  {
   "cell_type": "code",
   "execution_count": null,
   "metadata": {},
   "outputs": [],
   "source": [
    "def f(x):\n",
    "    y=np.cos(x)-x\n",
    "    return y\n",
    "def dfdx(x):\n",
    "    y=-np.sin(x)-1.\n",
    "    return y"
   ]
  },
  {
   "cell_type": "code",
   "execution_count": null,
   "metadata": {},
   "outputs": [],
   "source": [
    "Tol=1.e-8\n",
    "Nmax=1000\n",
    "error=1.\n",
    "iteracion=0\n",
    "p_prev=5."
   ]
  },
  {
   "cell_type": "code",
   "execution_count": null,
   "metadata": {},
   "outputs": [],
   "source": [
    "while(error>Tol):\n",
    "    p=p_prev-f(p_prev)/dfdx(p_prev)\n",
    "    error=abs(p-p_prev)\n",
    "    p_prev=p\n",
    "    iteracion+=1\n",
    "    if(iteracion>Nmax):\n",
    "        print(\"El metodo no converge despues de %d iteraciones\", Nmax)\n",
    "        break\n",
    "    print(\"p=%.16f \\t error=%.16f \\t abs(f(p))=%.16f \\t\" %(p,error,abs(f(p))))"
   ]
  },
  {
   "cell_type": "code",
   "execution_count": null,
   "metadata": {},
   "outputs": [],
   "source": [
    "#forma alternativa \n",
    "\n",
    "#while(iteracion<Nmax):\n",
    "#    p=p_prev-f(p_prev)/dfdx(p_prev)\n",
    "#    error=abs(p-p_prev)\n",
    "#    print(\"p=%.16f \\t error=%.16f \\t abs(f(p))=%.16f \\t\" %(p,error,abs(f(p))))\n",
    "#    if (error<Tol):\n",
    "#        break\n",
    "#    iteracion+=1\n",
    "#    p_prev=p\n",
    "#if(iteracion>=Nmax):\n",
    "#    print(\"El método falla luego de %d iteraciones\" %Nmax)"
   ]
  }
 ],
 "metadata": {
  "kernelspec": {
   "display_name": "Python 3",
   "language": "python",
   "name": "python3"
  },
  "language_info": {
   "codemirror_mode": {
    "name": "ipython",
    "version": 3
   },
   "file_extension": ".py",
   "mimetype": "text/x-python",
   "name": "python",
   "nbconvert_exporter": "python",
   "pygments_lexer": "ipython3",
   "version": "3.6.4"
  }
 },
 "nbformat": 4,
 "nbformat_minor": 2
}
