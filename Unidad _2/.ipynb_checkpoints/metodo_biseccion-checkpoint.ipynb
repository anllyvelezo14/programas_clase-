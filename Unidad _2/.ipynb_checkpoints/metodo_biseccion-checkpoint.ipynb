{
 "cells": [
  {
   "cell_type": "markdown",
   "metadata": {},
   "source": [
    "\n",
    "# Metodo de bisección"
   ]
  },
  {
   "cell_type": "markdown",
   "metadata": {},
   "source": [
    "vamos a resolver la ecuacion $x^3+4x^2-10=0$ en e intervalo [1,2]"
   ]
  },
  {
   "cell_type": "markdown",
   "metadata": {},
   "source": [
    "# Funciones auxiliares"
   ]
  },
  {
   "cell_type": "code",
   "execution_count": 3,
   "metadata": {},
   "outputs": [],
   "source": [
    "# Definimos la función a resolver\n",
    "\n",
    "def func(x):\n",
    "    value=x**3+4*x**2-10\n",
    "    return value\n",
    "\n",
    "def sign(x):\n",
    "    if x>0:\n",
    "        return 1\n",
    "    elif x<0:\n",
    "        return -1\n",
    "    else:\n",
    "        return 0\n",
    "    "
   ]
  },
  {
   "cell_type": "markdown",
   "metadata": {},
   "source": [
    "# El método"
   ]
  },
  {
   "cell_type": "code",
   "execution_count": 1,
   "metadata": {},
   "outputs": [
    {
     "ename": "NameError",
     "evalue": "name 'sign' is not defined",
     "output_type": "error",
     "traceback": [
      "\u001b[0;31m---------------------------------------------------------------------------\u001b[0m",
      "\u001b[0;31mNameError\u001b[0m                                 Traceback (most recent call last)",
      "\u001b[0;32m<ipython-input-1-1653b8c3eeda>\u001b[0m in \u001b[0;36m<module>\u001b[0;34m()\u001b[0m\n\u001b[1;32m     15\u001b[0m \u001b[0;31m#verificacion de hipotesis de T.del valor medio\u001b[0m\u001b[0;34m\u001b[0m\u001b[0;34m\u001b[0m\u001b[0m\n\u001b[1;32m     16\u001b[0m \u001b[0;34m\u001b[0m\u001b[0m\n\u001b[0;32m---> 17\u001b[0;31m \u001b[0;32mif\u001b[0m \u001b[0;34m(\u001b[0m\u001b[0msign\u001b[0m\u001b[0;34m(\u001b[0m\u001b[0mfunc\u001b[0m\u001b[0;34m(\u001b[0m\u001b[0mai\u001b[0m\u001b[0;34m)\u001b[0m\u001b[0;34m)\u001b[0m\u001b[0;34m*\u001b[0m\u001b[0msign\u001b[0m\u001b[0;34m(\u001b[0m\u001b[0mfunc\u001b[0m\u001b[0;34m(\u001b[0m\u001b[0mbi\u001b[0m\u001b[0;34m)\u001b[0m\u001b[0;34m)\u001b[0m\u001b[0;34m<\u001b[0m\u001b[0;36m0\u001b[0m\u001b[0;34m)\u001b[0m\u001b[0;34m:\u001b[0m\u001b[0;34m\u001b[0m\u001b[0m\n\u001b[0m\u001b[1;32m     18\u001b[0m     \u001b[0;32mwhile\u001b[0m\u001b[0;34m(\u001b[0m\u001b[0merror\u001b[0m\u001b[0;34m>\u001b[0m\u001b[0mTol\u001b[0m\u001b[0;34m)\u001b[0m\u001b[0;34m:\u001b[0m\u001b[0;34m\u001b[0m\u001b[0m\n\u001b[1;32m     19\u001b[0m         \u001b[0mpi\u001b[0m \u001b[0;34m=\u001b[0m \u001b[0;36m0.5\u001b[0m\u001b[0;34m*\u001b[0m\u001b[0;34m(\u001b[0m\u001b[0mai\u001b[0m \u001b[0;34m+\u001b[0m \u001b[0mbi\u001b[0m\u001b[0;34m)\u001b[0m\u001b[0;34m\u001b[0m\u001b[0m\n",
      "\u001b[0;31mNameError\u001b[0m: name 'sign' is not defined"
     ]
    }
   ],
   "source": [
    "## Longitud inicial del intervalo\n",
    "ai = 1.0\n",
    "bi = 2.0\n",
    "\n",
    "#Tolerancia\n",
    "Tol = 1e-4\n",
    "\n",
    "#Error inicial\n",
    "error = 1.0\n",
    "\n",
    "#Número maximo de iteracciones\n",
    "Nmax = 1000\n",
    "iteracion=0\n",
    "\n",
    "#verificacion de hipotesis de T.del valor medio\n",
    "\n",
    "if (sign(func(ai))*sign(func(bi))<0):\n",
    "    while(error>Tol):\n",
    "        pi = 0.5*(ai + bi)\n",
    "        pi_previo=pi\n",
    "        if (sign (func(pi))==sign(func(ai))):\n",
    "            ai = pi\n",
    "            bi = bi\n",
    "        elif (sign(func(pi))==sign(func(bi))):\n",
    "            ai=ai\n",
    "            bi=pi\n",
    "        pi = 0.5*(ai + bi)  \n",
    "        error=abs(pi-pi_previo)\n",
    "        \n",
    "        iteracion=iteracion+1\n",
    "        print (\"pi=%f\\t bi=%f\\t f(pi)=% f\\t error=%f\" %(pi, ai, bi, abs(func(pi)),error))\n",
    "        \n",
    "        if (iteracion>=Nmax):\n",
    "            print(\"Numero maximo de iteraciones exedido\")\n",
    "            break\n",
    "        \n",
    "else:\n",
    "    print(\"Intervalo inadecuado\")\n",
    "    \n",
    "print(\"Solución = %.5f\" %func(pi))"
   ]
  },
  {
   "cell_type": "code",
   "execution_count": null,
   "metadata": {},
   "outputs": [],
   "source": []
  }
 ],
 "metadata": {
  "kernelspec": {
   "display_name": "Python 3",
   "language": "python",
   "name": "python3"
  },
  "language_info": {
   "codemirror_mode": {
    "name": "ipython",
    "version": 3
   },
   "file_extension": ".py",
   "mimetype": "text/x-python",
   "name": "python",
   "nbconvert_exporter": "python",
   "pygments_lexer": "ipython3",
   "version": "3.6.4"
  }
 },
 "nbformat": 4,
 "nbformat_minor": 2
}
