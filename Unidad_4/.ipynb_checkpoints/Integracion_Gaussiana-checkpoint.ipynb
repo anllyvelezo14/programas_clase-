{
 "cells": [
  {
   "cell_type": "code",
   "execution_count": 8,
   "metadata": {},
   "outputs": [],
   "source": [
    "##importando librerias\n",
    "import numpy as np\n",
    "import matplotlib.pyplot as plt"
   ]
  },
  {
   "cell_type": "code",
   "execution_count": 9,
   "metadata": {},
   "outputs": [
    {
     "name": "stdout",
     "output_type": "stream",
     "text": [
      "[[ 2.          0.57735027  1.        ]\n",
      " [ 2.         -0.57735027  1.        ]\n",
      " [ 3.          0.77459667  0.55555556]\n",
      " [ 3.          0.          0.88888889]\n",
      " [ 3.         -0.77459667  0.55555556]\n",
      " [ 4.          0.86113631  0.34785485]\n",
      " [ 4.          0.33998104  0.65214515]\n",
      " [ 4.         -0.33998104  0.65214515]\n",
      " [ 4.         -0.86113631  0.34785485]\n",
      " [ 5.          0.90617985  0.23692689]\n",
      " [ 5.          0.53846931  0.47862867]\n",
      " [ 5.          0.          0.56888889]\n",
      " [ 5.         -0.53846931  0.47862867]\n",
      " [ 5.         -0.90617985  0.23692689]]\n"
     ]
    }
   ],
   "source": [
    "##cargando los coeficientes\n",
    "coeff=np.loadtxt('coeff.dat')\n",
    "print(coeff)"
   ]
  },
  {
   "cell_type": "code",
   "execution_count": 18,
   "metadata": {},
   "outputs": [],
   "source": [
    "##definiendo la funcion a utilizar\n",
    "def f(x):\n",
    "    value=2*x/(x**2-4)\n",
    "    #value= np.log(np.sin(np.exp(-x)))\n",
    "    return value\n",
    "\n",
    "\n",
    "def GaussQuad(f,a,b,n):  ##n es el numero de puntos que se van a usar \n",
    "    ## el usuario ingresa el no de puntos con que quiere integrar,\n",
    "    ## dado un valor de n, entrar a la matriz y elegir lo que necesita\n",
    "    \n",
    "    w_list=[]\n",
    "    z_list=[]\n",
    "    \n",
    "    ## llendando las listas con las variables relevantes haciendo un for sobre todas las filas de\n",
    "    ##la matriz coeff coeff.shape retorna (14,3) no. de filas y de columnas de la matriz\n",
    "    \n",
    "    for i in range(0,coeff.shape[0]):\n",
    "        if (n==int(coeff[i][0])):\n",
    "            w_list.append(coeff[i][2])\n",
    "            z_list.append(coeff[i][1])\n",
    "            \n",
    "     ## Programando la formula   \n",
    "    \n",
    "    sum=0 \n",
    "    for i in range(0,n):\n",
    "        argument=((b-a)*z_list[i]+a+b)*0.5\n",
    "        sum+= w_list[i]*f(argument)\n",
    "    value=sum*(b-a)*0.5\n",
    "    \n",
    "    return value\n"
   ]
  },
  {
   "cell_type": "code",
   "execution_count": 19,
   "metadata": {},
   "outputs": [
    {
     "name": "stdout",
     "output_type": "stream",
     "text": [
      "1.216290281598169\n"
     ]
    }
   ],
   "source": [
    "print (GaussQuad(f,0,3,5))"
   ]
  },
  {
   "cell_type": "code",
   "execution_count": null,
   "metadata": {},
   "outputs": [],
   "source": []
  }
 ],
 "metadata": {
  "kernelspec": {
   "display_name": "Python 3",
   "language": "python",
   "name": "python3"
  },
  "language_info": {
   "codemirror_mode": {
    "name": "ipython",
    "version": 3
   },
   "file_extension": ".py",
   "mimetype": "text/x-python",
   "name": "python",
   "nbconvert_exporter": "python",
   "pygments_lexer": "ipython3",
   "version": "3.6.4"
  }
 },
 "nbformat": 4,
 "nbformat_minor": 2
}
