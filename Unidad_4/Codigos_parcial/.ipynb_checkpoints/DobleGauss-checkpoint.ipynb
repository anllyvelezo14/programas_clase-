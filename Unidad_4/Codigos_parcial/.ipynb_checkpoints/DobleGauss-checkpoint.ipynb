{
 "cells": [
  {
   "cell_type": "markdown",
   "metadata": {},
   "source": [
    "# Integrales dobles por Gauss"
   ]
  },
  {
   "cell_type": "code",
   "execution_count": null,
   "metadata": {},
   "outputs": [],
   "source": [
    "import numpy as np\n",
    "\n",
    "# Cargando archivos de coeff\n",
    "coeff= np.loadtxt('coeff.dat')"
   ]
  },
  {
   "cell_type": "code",
   "execution_count": 5,
   "metadata": {},
   "outputs": [],
   "source": [
    "# Definiendo la función\n",
    "def f(x,y): \n",
    "    return np.exp(y/x)\n",
    "\n",
    "#Definiendo limites internos de intragración como funciones\n",
    "\n",
    "def c(x):\n",
    "    return  x**3\n",
    "\n",
    "def d(x):\n",
    "    return x**2    "
   ]
  },
  {
   "cell_type": "code",
   "execution_count": 6,
   "metadata": {},
   "outputs": [
    {
     "name": "stdout",
     "output_type": "stream",
     "text": [
      "0.033305566114962486\n"
     ]
    }
   ],
   "source": [
    "def DobbleGauss(a,b,c,d,f,n,m):\n",
    "    \n",
    "    ##creando los vectores pesos(w_i,w_j) y raices (t_i,t_j)\n",
    "     \n",
    "    w_i = []\n",
    "    z_i = []\n",
    "    \n",
    "    for i in range(0,coeff.shape[0]):\n",
    "        if(n==int(coeff[i][0])):\n",
    "            w_i.append(coeff[i][2])\n",
    "            z_i.append(coeff[i][1])\n",
    "    w_j = []\n",
    "    t_j = []\n",
    "    \n",
    "    for j in range(0,coeff.shape[0]):\n",
    "        if(m==coeff[j][0]):\n",
    "            w_j.append(coeff[j][2])\n",
    "            t_j.append(coeff[j][1])  \n",
    "            \n",
    "## INICIANDO INTEGRACION\n",
    "\n",
    "    sum_i=0.0\n",
    "    for i in range (0,n):\n",
    "        ##calculando el x_i para cara interaccion\n",
    "        x_i = 0.5*((b-a)*z_i[i]+a+b)  ##x(z_i)\n",
    "        sum_j = 0.0\n",
    "\n",
    "        for j in range (0,m):\n",
    "            y_j = 0.5* ((d(x_i)-c(x_i))*t_j[j] + c(x_i)+ d(x_i))\n",
    "            sum_j += f(x_i,y_j)*w_i[i]*w_j[j]\n",
    "        sum_i+= sum_j*(d(x_i)-c(x_i))\n",
    "        \n",
    "    value = sum_i*.25*(b-a)\n",
    "    return value\n",
    "    \n",
    "print (DobbleGauss(0.1,0.5,c,d,f,5,5)) \n",
    "                            #(limex_inf , limex_sup , limin_inf , limin_sup , funcion, prec_sint, prec_ext)"
   ]
  },
  {
   "cell_type": "code",
   "execution_count": null,
   "metadata": {},
   "outputs": [],
   "source": []
  }
 ],
 "metadata": {
  "kernelspec": {
   "display_name": "Python 3",
   "language": "python",
   "name": "python3"
  },
  "language_info": {
   "codemirror_mode": {
    "name": "ipython",
    "version": 3
   },
   "file_extension": ".py",
   "mimetype": "text/x-python",
   "name": "python",
   "nbconvert_exporter": "python",
   "pygments_lexer": "ipython3",
   "version": "3.6.4"
  }
 },
 "nbformat": 4,
 "nbformat_minor": 2
}
