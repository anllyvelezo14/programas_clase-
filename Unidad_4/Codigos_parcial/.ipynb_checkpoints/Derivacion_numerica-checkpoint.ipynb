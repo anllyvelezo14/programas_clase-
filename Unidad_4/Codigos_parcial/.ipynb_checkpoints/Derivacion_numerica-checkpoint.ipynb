{
 "cells": [
  {
   "cell_type": "markdown",
   "metadata": {},
   "source": [
    "# Método de los tres puntos"
   ]
  },
  {
   "cell_type": "markdown",
   "metadata": {},
   "source": [
    "Con este código se tiene la derivada de un punto especifico de x_list\n",
    "\n",
    "Notar que:\n",
    "\n",
    "-Método de los tres puntos No necesariamente igual espaciados\n",
    "\n",
    "-El error de evaluar la derivada en los extremos es siempre mayor que en el interior del intervalo\n",
    "\n",
    "-Se considera que el punto en el que se está evalueando es x0"
   ]
  },
  {
   "cell_type": "code",
   "execution_count": 12,
   "metadata": {},
   "outputs": [],
   "source": [
    "import numpy as np\n",
    "import matplotlib.pyplot as plt"
   ]
  },
  {
   "cell_type": "code",
   "execution_count": 13,
   "metadata": {},
   "outputs": [],
   "source": [
    "#Lista de datos, debe estar ordenada\n",
    "\n",
    "x_list = [1.8,1.9,2.,2.1,2.2] \n",
    "y_list = [10.889365,12.703199,14.778112,17.148957,19.855030]"
   ]
  },
  {
   "cell_type": "code",
   "execution_count": 18,
   "metadata": {},
   "outputs": [
    {
     "name": "stdout",
     "output_type": "stream",
     "text": [
      "La derivada en el punto 2 es 22.228789999999982\n"
     ]
    }
   ],
   "source": [
    "\n",
    "def dfdx(x_list,y_list,x): \n",
    "    \n",
    "        if  (x==x_list[0]):                      #Si el punto a derivar es el extremo izquierdo\n",
    "                                                 #x_list[0] es el primer elemento de la lista\n",
    "            \n",
    "            x0 = x_list[0]\n",
    "            y0 = y_list[0]\n",
    "            \n",
    "            x1 = x_list[1]\n",
    "            y1 = y_list[1]\n",
    "            \n",
    "            x2 = x_list[2]\n",
    "            y2 = y_list[2]\n",
    "            \n",
    "            xj = x0\n",
    "\n",
    "        elif(x==x_list[len(x_list)-1]):            #Si el punto a derivar es el extremo derecho\n",
    "            x0 = x_list[len(x_list)-1]             #len(x_list)-1 tamaño de la ista -1(python v)\n",
    "            y0 = y_list[len(y_list)-1]\n",
    "            \n",
    "            x1 = x_list[len(x_list)-2]\n",
    "            y1 = y_list[len(y_list)-1]\n",
    "            \n",
    "            x2 = x_list[len(x_list)-3]\n",
    "            y2 = y_list[len(y_list)-1] \n",
    "            xj = x0\n",
    "            \n",
    "        else:                                       #Si el punto a derivar esta dentro del intervalo\n",
    "            i=x_list.index(x)                       # ubicando a x en la lista y poder usar los ptos contiguos \n",
    "            x0 = x_list[i]                          #.index(x) muestra la posicion de x en la lista\n",
    "            y0 = y_list[i]\n",
    "             \n",
    "            x1 = x_list[i-1]\n",
    "            y1 = y_list[i-1]\n",
    "             \n",
    "            x2 = x_list[i+1]\n",
    "            y2 = y_list[i+1]\n",
    "             \n",
    "            xj = x0\n",
    "             \n",
    "        dL0dx = (2*xj-x1 -x2)/((x0-x1)*(x0-x2))\n",
    "        dL1dx = (2*xj-x0-x2)/((x1-x0)*(x1-x2))\n",
    "        dL2dx = (2*xj-x0-x1)/((x2-x0)*(x2-x1))\n",
    "        \n",
    "        return dL0dx*y0 + dL1dx*y1 + dL2dx*y2\n",
    "\n",
    "    \n",
    "print(\"La derivada en el punto 2 es\", dfdx(x_list,y_list,2.))\n"
   ]
  },
  {
   "cell_type": "markdown",
   "metadata": {},
   "source": [
    "# Derivación numerica general"
   ]
  },
  {
   "cell_type": "markdown",
   "metadata": {},
   "source": [
    "# Primera y segunda derivada como función"
   ]
  },
  {
   "cell_type": "markdown",
   "metadata": {},
   "source": [
    "Con este código se obtiene una lista con las derivadas en los puntos dados"
   ]
  },
  {
   "cell_type": "code",
   "execution_count": null,
   "metadata": {},
   "outputs": [],
   "source": [
    "x_list = [1.8,1.9,2.,2.1,2.2] \n",
    "y_list = [10.889365,12.703199,14.778112,17.148957,19.855030]"
   ]
  },
  {
   "cell_type": "code",
   "execution_count": 21,
   "metadata": {},
   "outputs": [
    {
     "name": "stdout",
     "output_type": "stream",
     "text": [
      "[16.832945000000013, 19.44373500000003, 22.22879000000003, 25.38459000000003, 28.736870000000042]\n"
     ]
    }
   ],
   "source": [
    "\n",
    "#La función primera derivada \n",
    "def dydx(x_list,y_list):                             #puntos igualmente espaciados\n",
    "    \n",
    "                                                     #Calculando el valor de h (la distancia entre puntos)\n",
    "    h=x_list[1]-x_list[0]\n",
    "    \n",
    "                                                     #Creando lista vacia para almacenar las derivadas\n",
    "    dydx_list=[]\n",
    "    \n",
    "    for i in range(0,len(x_list)):\n",
    "        \n",
    "                                                     # Cuando i es el extremo derecho\n",
    "        if i==0:\n",
    "            f0=y_list[i]\n",
    "            f1=y_list[i+1]\n",
    "            f2=y_list[i+2]\n",
    "            value=0.5/h*(-3*f0+4*f1-f2)\n",
    "            \n",
    "                                                     # Cuando i es el extremo izquierdo    \n",
    "        elif i==len(x_list)-1:\n",
    "            f0=y_list[i-2]\n",
    "            f1=y_list[i-1]\n",
    "            f2=y_list[i]\n",
    "            value=0.5/h*(f0-4*f1+3*f2)\n",
    "            \n",
    "                                                     # Cuando i toma un valor intermedio\n",
    "        else:\n",
    "            f0=y_list[i-1]\n",
    "            f1=y_list[i]\n",
    "            f2=y_list[i+1]\n",
    "            value=0.5/h*(f2-f0)\n",
    "            \n",
    "        dydx_list.append(value)\n",
    "        \n",
    "    return dydx_list\n",
    "            \n",
    "print(dydx(x_list,y_list))"
   ]
  },
  {
   "cell_type": "code",
   "execution_count": 24,
   "metadata": {},
   "outputs": [
    {
     "name": "stdout",
     "output_type": "stream",
     "text": [
      "[26.107900000000118, 26.107900000000118, 29.593199999999772, 33.52280000000016, 33.52280000000016]\n"
     ]
    }
   ],
   "source": [
    "#La función segunda derivada \n",
    "def ddyddx(x_list,y_list):\n",
    "    \n",
    "                                                     #Calculando el valor de h\n",
    "    h=x_list[1]-x_list[0]\n",
    "                                                     #Creando una lista vacia para almacenar las derivadas\n",
    "    ddyddx_list=[]\n",
    "    \n",
    "    for i in range(0,len(x_list)):\n",
    "       \n",
    "                                                     # Cuando i es el extremo derecho\n",
    "        if i==0:\n",
    "            f0=y_list[i]\n",
    "            f1=y_list[i+1]\n",
    "            f2=y_list[i+2]\n",
    "            value=1/(h*h)*(f0-2*f1+f2)\n",
    "            \n",
    "                                                     # Cuando i es el extremo izquierdo   \n",
    "        elif i==len(x_list)-1:\n",
    "            f0=y_list[i-2]\n",
    "            f1=y_list[i-1]\n",
    "            f2=y_list[i]\n",
    "            value=1/(h*h)*(f0-2*f1+f2)\n",
    "            \n",
    "                                                      # Cuando i toma un valor intermedio\n",
    "        else:\n",
    "            f0=y_list[i-1]\n",
    "            f1=y_list[i]\n",
    "            f2=y_list[i+1]\n",
    "            value=1/(h*h)*(f0-2*f1+f2)\n",
    "            \n",
    "        ddyddx_list.append(value)\n",
    "        \n",
    "    return ddyddx_list\n",
    "\n",
    "print(ddyddx(x_list,y_list))"
   ]
  },
  {
   "cell_type": "code",
   "execution_count": null,
   "metadata": {},
   "outputs": [],
   "source": []
  }
 ],
 "metadata": {
  "kernelspec": {
   "display_name": "Python 3",
   "language": "python",
   "name": "python3"
  },
  "language_info": {
   "codemirror_mode": {
    "name": "ipython",
    "version": 3
   },
   "file_extension": ".py",
   "mimetype": "text/x-python",
   "name": "python",
   "nbconvert_exporter": "python",
   "pygments_lexer": "ipython3",
   "version": "3.6.4"
  }
 },
 "nbformat": 4,
 "nbformat_minor": 2
}
