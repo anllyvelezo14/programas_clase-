{
 "cells": [
  {
   "cell_type": "code",
   "execution_count": 28,
   "metadata": {},
   "outputs": [],
   "source": [
    "import numpy as np\n",
    "import matplotlib.pyplot as plt"
   ]
  },
  {
   "cell_type": "code",
   "execution_count": 29,
   "metadata": {},
   "outputs": [],
   "source": [
    "## cargando coeficientes\n",
    "\n",
    "coeff = np.loadtxt('coeff2k.dat')        #ci | zi  raices/ pesos"
   ]
  },
  {
   "cell_type": "code",
   "execution_count": 30,
   "metadata": {},
   "outputs": [
    {
     "name": "stdout",
     "output_type": "stream",
     "text": [
      "-0.00023089815468226743\n"
     ]
    }
   ],
   "source": [
    "##definiendo la funcion a utilizar\n",
    "def f(x):\n",
    "    value=2*x/(x**2-4)\n",
    "    #value= np.log(np.sin(np.exp(-x)))\n",
    "    return value\n",
    "\n",
    "\n",
    "def GaussQuad(f,a,b,n):                      # n es el numero de puntos (precision) con los que quiere integrar\n",
    "                                             # dado un valor de n, entrar a la matriz y elegir lo que necesita\n",
    "    \n",
    "    w_list=[]\n",
    "    z_list=[]\n",
    "                   # llendando las listas con las variables relevantes haciendo un for sobre todas las filas de\n",
    "                   #la matriz coeff coeff.shape retorna (14,3) no. de filas y de columnas de la matriz\n",
    "    \n",
    "    for i in range(0,coeff.shape[0]):\n",
    "        if (n==int(coeff[i][0])):\n",
    "            w_list.append(coeff[i][1])\n",
    "            z_list.append(coeff[i][2])\n",
    "            \n",
    "                                             # Programando la formula     \n",
    "    sum=0 \n",
    "    for i in range(0,n):\n",
    "        argument=((b-a)*z_list[i]+a+b)*0.5\n",
    "        sum+= w_list[i]*f(argument)\n",
    "    value=sum*(b-a)*0.5\n",
    "    \n",
    "    return value\n",
    "\n",
    "print (GaussQuad(f,0,3,64))                   #(funcion, lim_infer, lim_sup, n precision)"
   ]
  },
  {
   "cell_type": "code",
   "execution_count": null,
   "metadata": {},
   "outputs": [],
   "source": []
  },
  {
   "cell_type": "code",
   "execution_count": null,
   "metadata": {},
   "outputs": [],
   "source": []
  }
 ],
 "metadata": {
  "kernelspec": {
   "display_name": "Python 3",
   "language": "python",
   "name": "python3"
  },
  "language_info": {
   "codemirror_mode": {
    "name": "ipython",
    "version": 3
   },
   "file_extension": ".py",
   "mimetype": "text/x-python",
   "name": "python",
   "nbconvert_exporter": "python",
   "pygments_lexer": "ipython3",
   "version": "3.6.4"
  }
 },
 "nbformat": 4,
 "nbformat_minor": 2
}
