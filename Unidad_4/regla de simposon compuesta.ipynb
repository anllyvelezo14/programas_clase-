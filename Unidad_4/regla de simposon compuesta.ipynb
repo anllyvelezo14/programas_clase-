{
 "cells": [
  {
   "cell_type": "code",
   "execution_count": 1,
   "metadata": {},
   "outputs": [],
   "source": [
    "import numpy as np\n",
    "import matplotlib.pyplot as plt\n"
   ]
  },
  {
   "cell_type": "code",
   "execution_count": 5,
   "metadata": {},
   "outputs": [],
   "source": [
    "def f(x):\n",
    "    value= (np.sin((1.+x)**.5)*np.log(x**2))**(1./3)\n",
    "    return value\n",
    "    "
   ]
  },
  {
   "cell_type": "code",
   "execution_count": 6,
   "metadata": {},
   "outputs": [],
   "source": [
    "def SimpComp(f,a,b,n): ##donde n debe ser par \n",
    "    ## espaciamiento entre nodos\n",
    "    h=(b-a)/n\n",
    "    \n",
    "    \n",
    "    ##definiendo vector de nodos\n",
    "    x_node=np.zeros(n+1)\n",
    "    \n",
    "    ##creando nodos xi=a + ih\n",
    "    for i in range(0,n+1):\n",
    "        x_node[i]= a+i*h\n",
    "     \n",
    "    ##verificando la creacion de nodos\n",
    "    ##return x_node\n",
    "    ##print(len(SimpComp(f,1,2,10)))\n",
    "    \n",
    "    \n",
    "    \n",
    "    ##iniciando la integracion\n",
    "    \n",
    "    ##sumatoria de numeros impares\n",
    "    suma_impar=0\n",
    "    for i in range(1,int(n/2)+1):\n",
    "        suma_impar += f(x_node[2*i-1])\n",
    "        \n",
    "    ##sumatoria de numeros pares\n",
    "    suma_par=0\n",
    "    for i in range(1,int(n/2)):\n",
    "        suma_par+= f(x_node[2*i])\n",
    "        \n",
    "        \n",
    "    ## escribiendo el resto de la funcion\n",
    "    value= h/3 * (f(a) + 2*suma_par + 4*suma_impar + f(b))\n",
    "    \n",
    "    return value\n",
    "       "
   ]
  },
  {
   "cell_type": "code",
   "execution_count": 7,
   "metadata": {},
   "outputs": [
    {
     "name": "stdout",
     "output_type": "stream",
     "text": [
      "0.8752185029003541\n"
     ]
    }
   ],
   "source": [
    "print (SimpComp(f,1,2,1000))"
   ]
  },
  {
   "cell_type": "code",
   "execution_count": null,
   "metadata": {},
   "outputs": [],
   "source": []
  }
 ],
 "metadata": {
  "kernelspec": {
   "display_name": "Python 3",
   "language": "python",
   "name": "python3"
  },
  "language_info": {
   "codemirror_mode": {
    "name": "ipython",
    "version": 3
   },
   "file_extension": ".py",
   "mimetype": "text/x-python",
   "name": "python",
   "nbconvert_exporter": "python",
   "pygments_lexer": "ipython3",
   "version": "3.6.4"
  }
 },
 "nbformat": 4,
 "nbformat_minor": 2
}
