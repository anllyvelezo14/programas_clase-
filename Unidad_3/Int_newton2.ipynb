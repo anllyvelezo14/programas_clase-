{
 "cells": [
  {
   "cell_type": "code",
   "execution_count": 21,
   "metadata": {},
   "outputs": [],
   "source": [
    "import numpy as np\n",
    "import matplotlib.pyplot as plt"
   ]
  },
  {
   "cell_type": "code",
   "execution_count": 24,
   "metadata": {},
   "outputs": [
    {
     "name": "stdout",
     "output_type": "stream",
     "text": [
      "[[0. 0. 0. 0. 0.]\n",
      " [0. 0. 0. 0. 0.]\n",
      " [0. 0. 0. 0. 0.]\n",
      " [0. 0. 0. 0. 0.]\n",
      " [0. 0. 0. 0. 0.]]\n"
     ]
    }
   ],
   "source": [
    "## Datos experimentales\n",
    "x_list=[1.0,1.3,1.6,1.9,2.2]\n",
    "y_list=[0.7651977,0.6200860,0.4554022,0.2818186,0.1103623]\n",
    "\n",
    "n=len(x_list) ##Numero de ptos experimentales \n",
    "\n",
    "##construyendo una matriz de nxn ceros para luego llenarla\n",
    "T=np.zeros((n,n))\n",
    "print(T)"
   ]
  },
  {
   "cell_type": "code",
   "execution_count": 27,
   "metadata": {},
   "outputs": [],
   "source": [
    "#Llenando la diagonal con dos contadores, dos ciclos fr\n",
    "\n",
    "for i in range (0,n):\n",
    "    for j in range(0,n):\n",
    "        if i==j:\n",
    "            T[i][j]=y_list[j] ##acceder a cada elemento de la matriz\n",
    "        else:\n",
    "            continue\n",
    "\n",
    "# el orden de llenado de la matriz con las diagonales\n",
    "for k in range(1,n):\n",
    "##llenando la matriz triangular superior (j!=i j distinto de i)\n",
    "    for i in range(0,n-1):\n",
    "        for j in range(1,n):\n",
    "            if j!=i and j==i+k:\n",
    "                T[i][j]=(T[i+1][j]-T[i][j-1])/(x_list[j]-x_list[i])\n",
    "        "
   ]
  }
 ],
 "metadata": {
  "kernelspec": {
   "display_name": "Python 3",
   "language": "python",
   "name": "python3"
  },
  "language_info": {
   "codemirror_mode": {
    "name": "ipython",
    "version": 3
   },
   "file_extension": ".py",
   "mimetype": "text/x-python",
   "name": "python",
   "nbconvert_exporter": "python",
   "pygments_lexer": "ipython3",
   "version": "3.6.4"
  }
 },
 "nbformat": 4,
 "nbformat_minor": 2
}
