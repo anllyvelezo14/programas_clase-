{
 "cells": [
  {
   "cell_type": "code",
   "execution_count": 7,
   "metadata": {},
   "outputs": [],
   "source": [
    "import numpy as np\n",
    "import matplotlib.pyplot as plt"
   ]
  },
  {
   "cell_type": "code",
   "execution_count": 18,
   "metadata": {},
   "outputs": [],
   "source": [
    "uL=384400.0  #Km Separacion m1 y m2\n",
    "m1=0.988  #uM Masa de la tierra\n",
    "m2=0.012  #uM Masa de la luna \n",
    "x1= 0.    #uL\n",
    "x2=1.     #uL\n",
    "\n",
    "def f(x):\n",
    "    #value= x-(m1*((x-x1)/(abs(x-x1))**3)-(m2*((x-x2)/(abs(x-x2))**3) #ecuación dada\n",
    "    value= x-(m1*(1/x*abs(x)))-(m2*(1/(x-1)*abs((x-1))))\n",
    "    return value\n",
    "def sign(x):\n",
    "    if x>0:\n",
    "        return 1\n",
    "    elif x<0:\n",
    "        return -1\n",
    "    else:\n",
    "        return 0"
   ]
  },
  {
   "cell_type": "code",
   "execution_count": 20,
   "metadata": {},
   "outputs": [
    {
     "data": {
      "image/png": "[encoded data removed]",
      "text/plain": [
       "<matplotlib.figure.Figure at 0x7f2b50556ba8>"
      ]
     },
     "metadata": {},
     "output_type": "display_data"
    }
   ],
   "source": [
    "x=np.arange(-3,5,0.1)\n",
    "y=[]\n",
    "for i in range(0,len(x)):\n",
    "    y.append(f(x[i]))\n",
    "plt.plot(x,y)\n",
    "plt.grid()\n",
    "plt.show()"
   ]
  },
  {
   "cell_type": "markdown",
   "metadata": {},
   "source": [
    "Graficando a tramos se evidencia que las raices de la ecuación estan ubicadas aproximadamente en -1  -0.2 y 1.1\n",
    "Por lo tanto, tomare tres intervalos para encontrar las tres raices de la ecuación como se ilustra a continuación"
   ]
  },
  {
   "cell_type": "code",
   "execution_count": 22,
   "metadata": {},
   "outputs": [
    {
     "name": "stdout",
     "output_type": "stream",
     "text": [
      "p=-0.500000, f(p)=0.500000, error=0.750000 \n",
      "p=-1.250000, f(p)=-0.250000, error=0.375000 \n",
      "p=-0.875000, f(p)=0.125000, error=0.187500 \n",
      "p=-1.062500, f(p)=-0.062500, error=0.093750 \n",
      "p=-0.968750, f(p)=0.031250, error=0.046875 \n",
      "p=-1.015625, f(p)=-0.015625, error=0.023438 \n",
      "p=-0.992188, f(p)=0.007812, error=0.011719 \n",
      "p=-1.003906, f(p)=-0.003906, error=0.005859 \n",
      "p=-0.998047, f(p)=0.001953, error=0.002930 \n",
      "p=-1.000977, f(p)=-0.000977, error=0.001465 \n",
      "p=-0.999512, f(p)=0.000488, error=0.000732 \n",
      "p=-1.000244, f(p)=-0.000244, error=0.000366 \n",
      "p=-0.999878, f(p)=0.000122, error=0.000183 \n",
      "p=-1.000061, f(p)=-0.000061, error=0.000092 \n",
      "p=-0.999969, f(p)=0.000031, error=0.000046 \n",
      "p=-1.000015, f(p)=-0.000015, error=0.000023 \n",
      "p=-0.999992, f(p)=0.000008, error=0.000011 \n",
      "p=-1.000004, f(p)=-0.000004, error=0.000006 \n",
      "f(x)=0 con x=-1.00000\n"
     ]
    }
   ],
   "source": [
    "#Primer intervalo\n",
    "\n",
    "p1=-2 #ptos extremos del intervalo\n",
    "p2=1\n",
    "Nmax=1000 #Número máximo de iteraciones\n",
    "Tol=1.0e-5\n",
    "error=1.0\n",
    "iteracion=0\n",
    "while(error>Tol):\n",
    "    p=(p1+p2)*.5\n",
    "    if(sign(f(p))*sign(f(p1))<0):\n",
    "        p2=p\n",
    "    if(sign(f(p))*sign(f(p2))<0):\n",
    "        p1=p\n",
    "    error=abs(p-(p1+p2)*0.5)\n",
    "    iteracion+=1\n",
    "    print(\"p=%.6f, f(p)=%.6f, error=%.6f \"%(p,f(p),error))\n",
    "    if(iteracion>=Nmax):\n",
    "        print(\"se ha alcanzado el número máximo de iteraciones\")\n",
    "        break\n",
    "print(\"f(x)=0 con x=%.5f\"%(p))\n",
    "    "
   ]
  },
  {
   "cell_type": "code",
   "execution_count": 33,
   "metadata": {},
   "outputs": [
    {
     "name": "stdout",
     "output_type": "stream",
     "text": [
      "p=-0.700000, f(p)=0.300000, error=0.000000 \n",
      "f(x)=0 con x=-0.70000\n"
     ]
    }
   ],
   "source": [
    "# Segundo intervalo \n",
    "p1=-0.5 #ptos extremos del intervalo\n",
    "p2=-0.9\n",
    "Nmax=1000 #Número máximo de iteraciones\n",
    "Tol=1.0e-5\n",
    "error=1.0\n",
    "iteracion=0\n",
    "while(error>Tol):\n",
    "    p=(p1+p2)*.5\n",
    "    if(sign(f(p))*sign(f(p1))<0):\n",
    "        p2=p\n",
    "    if(sign(f(p))*sign(f(p2))<0):\n",
    "        p1=p\n",
    "    error=abs(p-(p1+p2)*0.5)\n",
    "    iteracion+=1\n",
    "    print(\"p=%.6f, f(p)=%.6f, error=%.6f \"%(p,f(p),error))\n",
    "    if(iteracion>=Nmax):\n",
    "        print(\"se ha alcanzado el número máximo de iteraciones\")\n",
    "        break\n",
    "print(\"f(x)=0 con x=%.5f\"%(p))\n",
    "    "
   ]
  },
  {
   "cell_type": "code",
   "execution_count": 29,
   "metadata": {},
   "outputs": [
    {
     "name": "stdout",
     "output_type": "stream",
     "text": [
      "p=1.150000, f(p)=0.150000, error=0.000000 \n",
      "f(x)=0 con x=1.15000\n"
     ]
    }
   ],
   "source": [
    "#Tercer intervalo\n",
    "\n",
    "p1=1.1 #ptos extremos del intervalo\n",
    "p2=1.2\n",
    "Nmax=1000 #Número máximo de iteraciones\n",
    "Tol=1.0e-5\n",
    "error=1.0\n",
    "iteracion=0\n",
    "while(error>Tol):\n",
    "    p=(p1+p2)*.5\n",
    "    if(sign(f(p))*sign(f(p1))<0):\n",
    "        p2=p\n",
    "    if(sign(f(p))*sign(f(p2))<0):\n",
    "        p1=p\n",
    "    error=abs(p-(p1+p2)*0.5)\n",
    "    iteracion+=1\n",
    "    print(\"p=%.6f, f(p)=%.6f, error=%.6f \"%(p,f(p),error))\n",
    "    if(iteracion>=Nmax):\n",
    "        print(\"se ha alcanzado el número máximo de iteraciones\")\n",
    "        break\n",
    "print(\"f(x)=0 con x=%.5f\"%(p))\n",
    "    "
   ]
  },
  {
   "cell_type": "code",
   "execution_count": null,
   "metadata": {},
   "outputs": [],
   "source": []
  }
 ],
 "metadata": {
  "kernelspec": {
   "display_name": "Python 3",
   "language": "python",
   "name": "python3"
  },
  "language_info": {
   "codemirror_mode": {
    "name": "ipython",
    "version": 3
   },
   "file_extension": ".py",
   "mimetype": "text/x-python",
   "name": "python",
   "nbconvert_exporter": "python",
   "pygments_lexer": "ipython3",
   "version": "3.6.4"
  }
 },
 "nbformat": 4,
 "nbformat_minor": 2
}
