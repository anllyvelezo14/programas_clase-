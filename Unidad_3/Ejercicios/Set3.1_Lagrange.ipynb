{
 "cells": [
  {
   "cell_type": "code",
   "execution_count": 12,
   "metadata": {},
   "outputs": [
    {
     "data": {
      "image/png": "[encoded data removed]",
      "text/plain": [
       "<matplotlib.figure.Figure at 0x7fc56ca78240>"
      ]
     },
     "metadata": {},
     "output_type": "display_data"
    },
    {
     "name": "stdout",
     "output_type": "stream",
     "text": [
      "error=  5.887674645013201\n",
      "0.45461435499681924\n",
      "0.4830550656165784\n"
     ]
    }
   ],
   "source": [
    "import numpy as np\n",
    "import math as m\n",
    "import matplotlib.pyplot as plt\n",
    "\n",
    "#funcion a interpolar\n",
    "def f(x):\n",
    "    return np.tan(x)\n",
    "\n",
    "#puntos experimentales\n",
    "x_list=[0,0.6,0.9]\n",
    "y_list=[f(0),f(.6),f(.9)]\n",
    "\n",
    "#Polinomio de lagrange\n",
    "def PoliLagrange(x_list,y_list,x):\n",
    "    sum=0\n",
    "    for i in range(0,len(x_list)):\n",
    "        prod=1\n",
    "        for j in range(0,len(x_list)):\n",
    "            if(j!=i):\n",
    "                prod=prod*(x-x_list[j])/(x_list[i]-x_list[j])\n",
    "        sum=sum+y_list[i]*prod\n",
    "    return sum\n",
    "\n",
    "#evaluemos el polinomio de lagrange\n",
    "x_array=np.linspace(min(x_list),max(x_list),100)\n",
    "y_array=[]\n",
    "for i in range(0,len(x_array)):\n",
    "    y_array.append(PoliLagrange(x_list,y_list,x_array[i]))\n",
    "    \n",
    "    #grafiquemos\n",
    "fig=plt.figure()\n",
    "ax=plt.axes()\n",
    "ax.plot(x_list,y_list,\"*\")\n",
    "ax.plot(x_array,y_array,\"g\")\n",
    "plt.grid()\n",
    "plt.show()\n",
    "\n",
    "#determinemos el error e un punto de el polinomio interpolante vs la funcion real\n",
    "y_der=PoliLagrange(x_list,y_list,0.45)\n",
    "y_exac=f(0.45)\n",
    "error=abs((y_der-y_exac)/y_exac*100)\n",
    "print(\"error= \",error)\n",
    "print(y_der)\n",
    "print(y_exac)"
   ]
  },
  {
   "cell_type": "code",
   "execution_count": null,
   "metadata": {},
   "outputs": [],
   "source": []
  }
 ],
 "metadata": {
  "kernelspec": {
   "display_name": "Python 3",
   "language": "python",
   "name": "python3"
  },
  "language_info": {
   "codemirror_mode": {
    "name": "ipython",
    "version": 3
   },
   "file_extension": ".py",
   "mimetype": "text/x-python",
   "name": "python",
   "nbconvert_exporter": "python",
   "pygments_lexer": "ipython3",
   "version": "3.6.4"
  }
 },
 "nbformat": 4,
 "nbformat_minor": 2
}
