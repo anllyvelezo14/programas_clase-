{
 "cells": [
  {
   "cell_type": "markdown",
   "metadata": {},
   "source": [
    "# Evolución del radio de una estrella de 0.8 masas solares"
   ]
  },
  {
   "cell_type": "code",
   "execution_count": 6,
   "metadata": {},
   "outputs": [],
   "source": [
    "import numpy as np\n",
    "import matplotlib.pyplot as plt "
   ]
  },
  {
   "cell_type": "code",
   "execution_count": 13,
   "metadata": {},
   "outputs": [
    {
     "name": "stdout",
     "output_type": "stream",
     "text": [
      "[[1.47595901e-01 7.06269265e-01]\n",
      " [1.73568546e-02 8.87012258e-01]\n",
      " [3.48552798e-03 1.39573499e+00]\n",
      " [9.55397491e+00 7.90152272e-01]\n",
      " [8.29372065e+00 7.76561022e-01]\n",
      " [8.65326116e+00 7.80294067e-01]\n",
      " [3.60088284e-01 7.11064585e-01]\n",
      " [4.30403635e-01 7.11959306e-01]\n",
      " [1.03309538e-01 7.03668963e-01]\n",
      " [7.51181906e+00 7.68862656e-01]\n",
      " [7.11436807e-03 1.12050551e+00]\n",
      " [7.61883534e+00 7.69889809e-01]\n",
      " [2.43969028e-03 1.56697752e+00]\n",
      " [1.06987207e+01 8.03847029e-01]\n",
      " [9.02838809e+00 7.84306141e-01]\n",
      " [6.80363228e+00 7.62275039e-01]\n",
      " [1.11625202e+01 8.09839310e-01]\n",
      " [7.30227492e+00 7.66879350e-01]\n",
      " [2.47973290e-02 8.33723688e-01]\n",
      " [7.19970514e+00 7.65911372e-01]\n",
      " [1.02541920e+01 7.98348128e-01]\n",
      " [1.42867642e-03 1.87607546e+00]\n",
      " [2.91609478e-03 1.47831733e+00]\n",
      " [4.16615586e-03 1.31889687e+00]\n",
      " [5.22893301e+00 7.48774532e-01]\n",
      " [8.41187620e+00 7.77756026e-01]\n",
      " [2.96395662e-02 8.17693123e-01]\n",
      " [1.50018391e+00 7.20948404e-01]\n",
      " [1.16464259e+01 8.16433883e-01]\n",
      " [8.64317842e-02 7.01957389e-01]\n",
      " [7.09857608e+00 7.64971282e-01]\n",
      " [1.14828369e+01 8.14171480e-01]\n",
      " [3.01260403e-01 7.10179916e-01]\n",
      " [2.14327739e+00 7.25584792e-01]\n",
      " [3.06204988e+00 7.32192025e-01]\n",
      " [3.54273594e-02 8.03494173e-01]\n",
      " [1.05005156e+00 7.17549163e-01]\n",
      " [1.01641299e-02 1.01292373e+00]\n",
      " [6.33903992e+00 7.58126780e-01]\n",
      " [8.17722474e+00 7.75387852e-01]\n",
      " [1.23483052e-01 7.05064054e-01]\n",
      " [7.40630596e+00 7.67863712e-01]\n",
      " [7.23113616e-02 7.00170117e-01]\n",
      " [8.90157284e+00 7.82930271e-01]\n",
      " [1.00000000e-03 2.12830419e+00]\n",
      " [3.65998411e+00 7.36577046e-01]\n",
      " [6.14907526e-01 7.13883242e-01]\n",
      " [8.78503886e-01 7.16189663e-01]\n",
      " [1.25000000e+01 8.28867947e-01]\n",
      " [1.45212528e-02 9.23838859e-01]\n",
      " [1.05484435e+01 8.01956695e-01]\n",
      " [4.97969166e-03 1.24757071e+00]\n",
      " [7.34982076e-01 7.14973816e-01]\n",
      " [6.04978025e-02 7.01627501e-01]\n",
      " [7.94911894e+00 7.73112938e-01]\n",
      " [1.25509779e+00 7.19123939e-01]\n",
      " [1.19527253e-03 1.99669638e+00]\n",
      " [6.70806657e+00 7.61409076e-01]\n",
      " [1.79312862e+00 7.23072485e-01]\n",
      " [8.77653887e+00 7.81592993e-01]\n",
      " [5.95208865e-03 1.18148514e+00]\n",
      " [2.56180059e+00 7.28589363e-01]\n",
      " [8.53171505e+00 7.78997214e-01]\n",
      " [9.69008453e+00 7.91694557e-01]\n",
      " [2.07461716e-02 8.56615129e-01]\n",
      " [1.21489053e-02 9.66036142e-01]\n",
      " [1.23244215e+01 8.26203203e-01]\n",
      " [7.83746341e+00 7.72010204e-01]\n",
      " [9.41977712e+00 7.88631353e-01]\n",
      " [1.13215458e+01 8.11975539e-01]\n",
      " [2.10866784e-01 7.08309610e-01]\n",
      " [4.23453495e-02 7.79722278e-01]\n",
      " [6.52094332e+00 7.59733799e-01]\n",
      " [8.06236517e+00 7.74232656e-01]\n",
      " [6.99886750e+00 7.64049473e-01]\n",
      " [2.52043274e-01 7.09263674e-01]\n",
      " [1.19806286e+01 8.21163584e-01]\n",
      " [1.10057284e+01 8.07768540e-01]\n",
      " [5.14449642e-01 7.12893538e-01]\n",
      " [6.61384320e+00 7.60556228e-01]\n",
      " [6.90055946e+00 7.63154324e-01]\n",
      " [5.06142331e-02 7.32330067e-01]\n",
      " [4.37467847e+00 7.42005741e-01]\n",
      " [1.18123454e+01 8.18769131e-01]\n",
      " [1.70765769e-03 1.76497098e+00]\n",
      " [1.76417326e-01 7.07319863e-01]\n",
      " [1.21513093e+01 8.23650148e-01]\n",
      " [2.04111633e-03 1.66225066e+00]\n",
      " [9.82813323e+00 7.93296226e-01]\n",
      " [6.42934833e+00 7.58924067e-01]\n",
      " [7.72737622e+00 7.70941827e-01]\n",
      " [1.08511388e+01 8.05766040e-01]\n",
      " [8.50360874e-03 1.06440264e+00]\n",
      " [1.01101587e+01 7.96624389e-01]\n",
      " [6.25000000e+00 7.57341783e-01]\n",
      " [9.28746431e+00 7.87153848e-01]\n",
      " [1.04002771e+01 8.00130371e-01]\n",
      " [9.96814861e+00 7.94939414e-01]\n",
      " [9.15701000e+00 7.85702758e-01]]\n"
     ]
    }
   ],
   "source": [
    "#SUbiendo los datos\n",
    "\n",
    "datos = np.loadtxt(\"/home/anlly/Escritorio/Metcomp_anllyvelezo/Programas_clase/Unidadstellar_radius.dat\") \n",
    "x_list_uo=[]\n",
    "y_list_uo=[]\n",
    "\n",
    "for i in range(0,datos.shape[0]):  # desde cero hasta el numero total de lineas \n",
    "    x_list_uo.append(datos[i][0]) ##almacena el tiempo\n",
    "    y_list_uo.append(datos[i][1])  ##almacena los radios\n",
    "    \n",
    "x_list,y_list=zip(*sorted(zip(x_list_uo,y_list_uo)))\n",
    "\n",
    "print (datos)"
   ]
  },
  {
   "cell_type": "code",
   "execution_count": 2,
   "metadata": {},
   "outputs": [],
   "source": [
    "#Otra forma de subir los datos\n",
    "\n",
    "datos = np.loadtxt(\"/home/anlly/Escritorio/Metcomp_anllyvelezo/stellar_radius.dat\") \n",
    "x_desord=[datos[i-1:i,0:1][0][0] for i in range(1,len(datos)+1)]\n",
    "y_desord=[datos[i-1:i,1:2][0][0] for i in range(1,len(datos)+1)]\n",
    "\n",
    "x_list,y_list=zip(*sorted(zip(x_desord,y_desord)))\n"
   ]
  },
  {
   "cell_type": "code",
   "execution_count": 9,
   "metadata": {},
   "outputs": [],
   "source": [
    "def Interpoladorlienal(x_list,y_list,x):\n",
    "    for i in range(0,len(x_list)-1):\n",
    "        if(x>=x_list[i] and x<=x_list[i+1]):\n",
    "            x_prev=x_list[i]\n",
    "            y_prev=y_list[i] \n",
    "            x_next= x_list[i+1]\n",
    "            y_next= y_list[i+1]\n",
    "            y=(y_next-y_prev)/(x_next-x_prev)*(x-x_prev)+y_prev\n",
    "            return y\n"
   ]
  },
  {
   "cell_type": "code",
   "execution_count": 10,
   "metadata": {},
   "outputs": [],
   "source": [
    "x_interpol=np.linspace(min(x_list),max(x_list),5000) ##Crea un arreglo desde min hasta max con 5000 puntos\n",
    "y_interpol=[]\n",
    "for i in range(0,len(x_interpol)):\n",
    "    y_interpol.append(Interpoladorlienal(x_list,y_list,x_interpol[i]))\n"
   ]
  },
  {
   "cell_type": "code",
   "execution_count": 12,
   "metadata": {},
   "outputs": [
    {
     "data": {
      "image/png": "[encoded data removed]",
      "text/plain": [
       "<matplotlib.figure.Figure at 0x7f9def54d2e8>"
      ]
     },
     "metadata": {},
     "output_type": "display_data"
    }
   ],
   "source": [
    "## Graficando\n",
    "\n",
    "fig=plt.figure()\n",
    "ax=plt.axes()\n",
    "plt.xscale('log')\n",
    "ax.plot(x_list,y_list,markersize=\"7\",label=\"datos discretos\")\n",
    "ax.plot(x_interpol,y_interpol,\"*\",label=\"puntos interpolados\")\n",
    "ax.legend()\n",
    "#plt.grid()\n",
    "plt.show()\n"
   ]
  },
  {
   "cell_type": "code",
   "execution_count": null,
   "metadata": {},
   "outputs": [],
   "source": []
  }
 ],
 "metadata": {
  "kernelspec": {
   "display_name": "Python 3",
   "language": "python",
   "name": "python3"
  },
  "language_info": {
   "codemirror_mode": {
    "name": "ipython",
    "version": 3
   },
   "file_extension": ".py",
   "mimetype": "text/x-python",
   "name": "python",
   "nbconvert_exporter": "python",
   "pygments_lexer": "ipython3",
   "version": "3.6.4"
  }
 },
 "nbformat": 4,
 "nbformat_minor": 2
}
