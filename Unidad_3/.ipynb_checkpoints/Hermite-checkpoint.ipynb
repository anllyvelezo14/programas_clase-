{
 "cells": [
  {
   "cell_type": "markdown",
   "metadata": {},
   "source": [
    "### Polinomios de Hermite "
   ]
  },
  {
   "cell_type": "code",
   "execution_count": 97,
   "metadata": {},
   "outputs": [],
   "source": [
    "import numpy as np\n",
    "import matplotlib.pyplot as plt"
   ]
  },
  {
   "cell_type": "code",
   "execution_count": 131,
   "metadata": {},
   "outputs": [],
   "source": [
    "x=[1.3,1.6,1.9]\n",
    "fx=[.6200860,.4554022,.2818186]\n",
    "dfdx=[-.5220232,-.5698959,-.5811571]"
   ]
  },
  {
   "cell_type": "code",
   "execution_count": 138,
   "metadata": {},
   "outputs": [
    {
     "name": "stdout",
     "output_type": "stream",
     "text": [
      "[[ 0.620086    0.          0.          0.          0.          0.        ]\n",
      " [ 0.620086   -0.5220232   0.          0.          0.          0.        ]\n",
      " [ 0.4554022  -0.548946   -0.08974267  0.          0.          0.        ]\n",
      " [ 0.4554022  -0.5698959  -0.069833    0.06636556  0.          0.        ]\n",
      " [ 0.2818186  -0.578612   -0.02905367  0.06796556  0.00266667  0.        ]\n",
      " [ 0.2818186  -0.5811571  -0.00848367  0.06856667  0.00100185 -0.00277469]]\n"
     ]
    }
   ],
   "source": [
    "n=len(x)\n",
    "z=np.zeros(2*n)\n",
    "Q=np.zeros((2*n,2*n))\n",
    "\n",
    "for i in range(0,n):\n",
    "    z[2*i]=x[i]\n",
    "    z[2*i+1]=x[i]\n",
    "    Q[2*i][0]=fx[i]\n",
    "    Q[2*i+1][0]=fx[i]\n",
    "    Q[2*i+1][1]=dfdx[i]\n",
    "    \n",
    "    if(i!=0):\n",
    "        Q[2*i][1]=(Q[2*i+1][0]-Q[2*i-1][0])/(z[2*i]-z[2*i-1])\n",
    "\n",
    "for i in range(2,2*n):\n",
    "    for j in range(2,i+1):\n",
    "        Q[i][j]=(Q[i][j-1]-Q[i-1][j-1])/(z[i]-z[i-j])\n",
    "\n",
    "print(Q)\n",
    "########################################## DE AQUI PA ALLA NO JUNCIONA #######################################3\n",
    "\n",
    "def p(x,fx,xi):\n",
    "    sum=dif[0][0]\n",
    "    for i in range(1,len(x)-1):\n",
    "        prod=1\n",
    "        for j in range(0,i):\n",
    "            prod*=(xi-x[j])\n",
    "        sum+=dif[i][i]*prod\n",
    "    return sum \n",
    "\n",
    "def H(x_list,fx_list,x):\n",
    "    sum=Q[0][0]\n",
    "    for i in range(1,2*len(x_list)):\n",
    "        prod=1\n",
    "        for j in range(0,i):\n",
    "            prod*=(x-z[i])\n",
    "            sum+=Q[i][i]*prod\n",
    "        return sum"
   ]
  },
  {
   "cell_type": "code",
   "execution_count": 139,
   "metadata": {},
   "outputs": [
    {
     "data": {
      "image/png": "[encoded data removed]",
      "text/plain": [
       "<Figure size 432x288 with 1 Axes>"
      ]
     },
     "metadata": {
      "needs_background": "light"
     },
     "output_type": "display_data"
    }
   ],
   "source": [
    "x_array=np.linspace(min(x),max(x),100)\n",
    "y_array=[]\n",
    "\n",
    "for i in range(0,len(x_array)):\n",
    "    y_array.append(H(x,fx,x_array[i]))\n",
    "    \n",
    "fig=plt.figure()\n",
    "ax=plt.axes()\n",
    "ax.plot(x,fx,'*')\n",
    "ax.plot(x_array,y_array,'-')\n",
    "plt.show()"
   ]
  },
  {
   "cell_type": "code",
   "execution_count": null,
   "metadata": {},
   "outputs": [],
   "source": []
  }
 ],
 "metadata": {
  "kernelspec": {
   "display_name": "Python 3",
   "language": "python",
   "name": "python3"
  },
  "language_info": {
   "codemirror_mode": {
    "name": "ipython",
    "version": 3
   },
   "file_extension": ".py",
   "mimetype": "text/x-python",
   "name": "python",
   "nbconvert_exporter": "python",
   "pygments_lexer": "ipython3",
   "version": "3.6.4"
  }
 },
 "nbformat": 4,
 "nbformat_minor": 2
}
