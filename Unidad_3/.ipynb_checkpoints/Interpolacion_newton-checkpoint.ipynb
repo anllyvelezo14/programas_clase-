{
 "cells": [
  {
   "cell_type": "markdown",
   "metadata": {},
   "source": [
    "Interpolación de Newton via diferencias divididas"
   ]
  },
  {
   "cell_type": "code",
   "execution_count": 1,
   "metadata": {},
   "outputs": [],
   "source": [
    "import numpy as np\n",
    "import matplotlib.pyplot as plt"
   ]
  },
  {
   "cell_type": "code",
   "execution_count": 10,
   "metadata": {},
   "outputs": [],
   "source": [
    "x= [1.0,1.3,1.6,1.9,2.2]\n",
    "y= [0.7651977,0.6200860,0.4554022,0.2818186,0.1103623]\n",
    "\n",
    "n=len(x)\n",
    "M= np.zeros((n,n))"
   ]
  },
  {
   "cell_type": "code",
   "execution_count": 28,
   "metadata": {},
   "outputs": [
    {
     "ename": "SyntaxError",
     "evalue": "invalid syntax (<ipython-input-28-020caa1cf499>, line 10)",
     "output_type": "error",
     "traceback": [
      "\u001b[0;36m  File \u001b[0;32m\"<ipython-input-28-020caa1cf499>\"\u001b[0;36m, line \u001b[0;32m10\u001b[0m\n\u001b[0;31m    return M[i][j]\u001b[0m\n\u001b[0m         ^\u001b[0m\n\u001b[0;31mSyntaxError\u001b[0m\u001b[0;31m:\u001b[0m invalid syntax\n"
     ]
    }
   ],
   "source": [
    "M[0][0]= y[0]\n",
    "M[1][0]= y[1]\n",
    "M[2][0]= y[2]\n",
    "M[3][0]= y[3]\n",
    "M[4][0]= y[4]\n",
    "\n",
    "for i in range (1,len(x)):\n",
    "    for j in range (1,i+1):\n",
    "        M[i][j]=((M[i][j-1])-M[i-1][j-1])/(x[i]-x[i-j]\n",
    "                                   \n",
    "            "
   ]
  }
 ],
 "metadata": {
  "kernelspec": {
   "display_name": "Python 3",
   "language": "python",
   "name": "python3"
  },
  "language_info": {
   "codemirror_mode": {
    "name": "ipython",
    "version": 3
   },
   "file_extension": ".py",
   "mimetype": "text/x-python",
   "name": "python",
   "nbconvert_exporter": "python",
   "pygments_lexer": "ipython3",
   "version": "3.6.4"
  }
 },
 "nbformat": 4,
 "nbformat_minor": 2
}
