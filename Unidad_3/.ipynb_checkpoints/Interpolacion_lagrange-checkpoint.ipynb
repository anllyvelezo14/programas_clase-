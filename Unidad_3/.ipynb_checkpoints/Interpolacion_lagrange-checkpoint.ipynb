{
 "cells": [
  {
   "cell_type": "markdown",
   "metadata": {},
   "source": [
    "# Interpolacion via polinomios de lagrange"
   ]
  },
  {
   "cell_type": "code",
   "execution_count": 2,
   "metadata": {},
   "outputs": [],
   "source": [
    "import numpy as np\n",
    "import matplotlib.pyplot as plt"
   ]
  },
  {
   "cell_type": "code",
   "execution_count": 25,
   "metadata": {},
   "outputs": [
    {
     "data": {
      "image/png": "[encoded data removed]",
      "text/plain": [
       "<matplotlib.figure.Figure at 0x7fe792e0b278>"
      ]
     },
     "metadata": {},
     "output_type": "display_data"
    }
   ],
   "source": [
    "x_list=[1,3,5,7,8,10,6]\n",
    "y_list=[5,2,4,1,2,-5,10]\n",
    "\n",
    "fig=plt.figure()\n",
    "ax=plt.axes()\n",
    "ax.plot(x_list,y_list,'.')\n",
    "plt.show()"
   ]
  },
  {
   "cell_type": "code",
   "execution_count": 26,
   "metadata": {},
   "outputs": [],
   "source": [
    "def Polylagrange(x_list,y_list,x):\n",
    "    sum=0\n",
    "    for i in range(0,len(x_list)): ## n es la cantidad de puntos, en este caso la longitud(len)de la lista x\n",
    "        prod=1\n",
    "        for j in range(0,len(x_list)):\n",
    "            if (j!=i): # si j es distinto de i\n",
    "                prod=prod*(x-x_list[j])/(x_list[i]-x_list[j])\n",
    "        sum = sum + y_list[i]*prod\n",
    "    return sum"
   ]
  },
  {
   "cell_type": "code",
   "execution_count": 36,
   "metadata": {},
   "outputs": [],
   "source": [
    "x_array=np.linspace(min(x_list)-0.5, max(x_list)+0.5,100)\n",
    "y_array=[]"
   ]
  },
  {
   "cell_type": "code",
   "execution_count": 37,
   "metadata": {},
   "outputs": [],
   "source": [
    "for i in range(0,len(x_array)):\n",
    "    y_array.append(Polylagrange(x_list,y_list,x_array[i]))"
   ]
  },
  {
   "cell_type": "code",
   "execution_count": 38,
   "metadata": {},
   "outputs": [
    {
     "data": {
      "image/png": "[encoded data removed]",
      "text/plain": [
       "<matplotlib.figure.Figure at 0x7fe792ecbcc0>"
      ]
     },
     "metadata": {},
     "output_type": "display_data"
    }
   ],
   "source": [
    "fig=plt.figure()\n",
    "ax=plt.axes()\n",
    "ax.plot(x_list,y_list,'*')\n",
    "ax.plot(x_array,y_array)\n",
    "plt.show()"
   ]
  },
  {
   "cell_type": "markdown",
   "metadata": {},
   "source": [
    "EJEMPLO"
   ]
  },
  {
   "cell_type": "code",
   "execution_count": null,
   "metadata": {},
   "outputs": [],
   "source": [
    "##EJERCICIO NUMERO UNO DEL LIBRO"
   ]
  },
  {
   "cell_type": "code",
   "execution_count": 44,
   "metadata": {},
   "outputs": [
    {
     "name": "stdout",
     "output_type": "stream",
     "text": [
      "El error es = 0.88086 por ciento\n",
      "0.36829061135835395\n",
      "0.371563556432483\n"
     ]
    }
   ],
   "source": [
    "x_list=[0,0.6,0.9]\n",
    "y_list=[np.log(1+0.),np.log(1+0.6), np.log(1+0.9)]\n",
    "\n",
    "def Polylagrange(x_list,y_list,x):\n",
    "    sum=0\n",
    "    for i in range(0,len(x_list)): ## n es la cantidad de puntos, en este caso la longitud(len)de la lista x\n",
    "        prod=1\n",
    "        for j in range(0,len(x_list)):\n",
    "            if (j!=i): # si j es distinto de i\n",
    "                prod=prod*(x-x_list[j])/(x_list[i]-x_list[j])\n",
    "        sum = sum + y_list[i]*prod\n",
    "    return sum\n",
    "\n",
    "x_array=np.linspace(min(x_list), max(x_list),100)\n",
    "y_array=[]\n",
    "\n",
    "for i in range(0,len(x_array)):\n",
    "    y_array.append(Polylagrange(x_list,y_list,x_array[i]))\n",
    "    \n",
    "    \n",
    "y_derivado= Polylagrange(x_list,y_list,0.45)\n",
    "y_exacto=np.log(1+0.45)\n",
    "error=abs((y_derivado-y_exacto)/y_exacto*100)\n",
    "print(\"El error es = %.5f por ciento\"%error)\n",
    "print(Polylagrange(x_list,y_list,0.45))\n",
    "print(np.log(1.45))"
   ]
  },
  {
   "cell_type": "code",
   "execution_count": null,
   "metadata": {},
   "outputs": [],
   "source": []
  }
 ],
 "metadata": {
  "kernelspec": {
   "display_name": "Python 3",
   "language": "python",
   "name": "python3"
  },
  "language_info": {
   "codemirror_mode": {
    "name": "ipython",
    "version": 3
   },
   "file_extension": ".py",
   "mimetype": "text/x-python",
   "name": "python",
   "nbconvert_exporter": "python",
   "pygments_lexer": "ipython3",
   "version": "3.6.4"
  }
 },
 "nbformat": 4,
 "nbformat_minor": 2
}
