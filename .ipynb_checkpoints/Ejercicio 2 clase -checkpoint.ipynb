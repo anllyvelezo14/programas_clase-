{
 "cells": [
  {
   "cell_type": "markdown",
   "metadata": {},
   "source": [
    "El cometa Halley"
   ]
  },
  {
   "cell_type": "code",
   "execution_count": 11,
   "metadata": {},
   "outputs": [],
   "source": [
    "import numpy as np"
   ]
  },
  {
   "cell_type": "code",
   "execution_count": 12,
   "metadata": {},
   "outputs": [],
   "source": [
    "## definiendo una funcion que resuelva la ec de kepler\n",
    "\n",
    "G= 6.67e-11\n",
    "Ms = 1.989e30\n",
    "AU= 146.6e9\n",
    "a=17.834*AU\n",
    "e=0.96714\n",
    "\n",
    "year=86400*365.25\n",
    "    \n",
    "t_ini=0.0\n",
    "t_end=75.32*year\n",
    "\n",
    "time_array=np.linspace(t_ini,t_end,1000)\n",
    "\n",
    "def f(E,t):\n",
    " \n",
    "    value = E-e*np.sin(E)-(G*Ms/a**3)**0.5 * t\n",
    "    return value\n",
    "\n",
    "## Derivando respecto a E\n",
    "def dfdE(E):\n",
    "    e=0.96714\n",
    "    value=1-e*np.cos(E)\n",
    "    return value\n"
   ]
  },
  {
   "cell_type": "code",
   "execution_count": 16,
   "metadata": {},
   "outputs": [
    {
     "ename": "SyntaxError",
     "evalue": "invalid syntax (<ipython-input-16-3aa8a306cf92>, line 6)",
     "output_type": "error",
     "traceback": [
      "\u001b[0;36m  File \u001b[0;32m\"<ipython-input-16-3aa8a306cf92>\"\u001b[0;36m, line \u001b[0;32m6\u001b[0m\n\u001b[0;31m    r_array[]\u001b[0m\n\u001b[0m            ^\u001b[0m\n\u001b[0;31mSyntaxError\u001b[0m\u001b[0;31m:\u001b[0m invalid syntax\n"
     ]
    }
   ],
   "source": [
    "Tol = 1.0e-6\n",
    "Nmax = 1000\n",
    "error = 1.\n",
    "iteracion = 0\n",
    "phi_array=[]\n",
    "r_array[]\n",
    "\n",
    "for i in range(0,len(time_array)):\n",
    "    p_prev = (G*Ms/a**3)**0.5 * time_array(i)     ## Esta es la anomalia media\n",
    "    while(error>Tol):\n",
    "        p=p_prev-f(p_prev,time_array[i])/dfdE(p_prev)\n",
    "        error=abs(-p_prev)\n",
    "        p_prev=p\n",
    "        iteracion=iteracion+1\n",
    "        if (iteracion>=Nmax):\n",
    "            print(\"El metodo no converge\")\n",
    "            break\n",
    "        \n",
    "    phi=2.0*np.arctan(((1+e)/(1-e))**0.5 * np.tan(0.5*p))\n",
    "    r=a*(1-e**2)/(1+e*np.cos(phi))\n",
    "    \n",
    "    phi_array.append(phi)\n",
    "    r_array.append(r)\n",
    "        \n",
    "        \n",
    "      \n",
    "        \n"
   ]
  },
  {
   "cell_type": "code",
   "execution_count": null,
   "metadata": {},
   "outputs": [],
   "source": []
  }
 ],
 "metadata": {
  "kernelspec": {
   "display_name": "Python 3",
   "language": "python",
   "name": "python3"
  },
  "language_info": {
   "codemirror_mode": {
    "name": "ipython",
    "version": 3
   },
   "file_extension": ".py",
   "mimetype": "text/x-python",
   "name": "python",
   "nbconvert_exporter": "python",
   "pygments_lexer": "ipython3",
   "version": "3.6.4"
  }
 },
 "nbformat": 4,
 "nbformat_minor": 2
}
