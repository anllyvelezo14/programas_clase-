{
 "cells": [
  {
   "cell_type": "code",
   "execution_count": 2,
   "metadata": {},
   "outputs": [],
   "source": [
    "import numpy as np\n"
   ]
  },
  {
   "cell_type": "code",
   "execution_count": 15,
   "metadata": {},
   "outputs": [],
   "source": [
    "# Definiendo matriz de coeficientes y vector de terminos indeendientes\n",
    "\n",
    "A = [[1,1,1],[2,-3,-4],[1,-1,1]] ##priemero las creamos como una lista y se convierte a arreglo\n",
    "A = np.array(A)\n",
    "\n",
    "B = [1,9,-1]\n",
    "B = np.array(B)"
   ]
  },
  {
   "cell_type": "code",
   "execution_count": 16,
   "metadata": {},
   "outputs": [
    {
     "name": "stdout",
     "output_type": "stream",
     "text": [
      "[[ 1  1  1]\n",
      " [ 2 -3 -4]\n",
      " [ 1 -1  1]]\n",
      "[[ 1  1]\n",
      " [-3 -4]\n",
      " [-1  1]]\n"
     ]
    }
   ],
   "source": [
    "## extraer de esa atriz solo la col 2\n",
    "\n",
    "print(A)\n",
    "print (A[:,1:]) ## izquierda de la coma filas,  derecha col\n",
    "\n",
    "\n",
    "#cambiar la posicion de filas Intercambiando las filas\n",
    "\n",
    "A[[0,1]] = A[[1,0]]"
   ]
  },
  {
   "cell_type": "code",
   "execution_count": 17,
   "metadata": {},
   "outputs": [
    {
     "name": "stdout",
     "output_type": "stream",
     "text": [
      "2\n"
     ]
    }
   ],
   "source": [
    "## crear una rutina que me encuentre la fila en la que esta el pivote \n",
    "## esta funcion retorna la fila en la que se encuentra el pivote de una columna\n",
    "\n",
    "def row_pivote(A,fil,col):       ## depende tambien de la fila pues luego no se considera la primera fila\n",
    "    \n",
    "    max_value = max(A[fil:,col])\n",
    "    min_value = min(A[fil:,col])\n",
    "    if(abs(max_value)>abs(min_value)):\n",
    "        \n",
    "        pivote = min_value\n",
    "    else:\n",
    "        pivote = min_value\n",
    "    #obteniendo el indice del pivote \n",
    "    \n",
    "    for i in range (0,A.shape[0]):\n",
    "        if(A[i][col]==pivote):\n",
    "            fila_pivote=i\n",
    "    return fila_pivote\n",
    "\n",
    "print (row_pivote(A,0,0))        ##devuelve el indicie de la fila donde esta el pivote"
   ]
  },
  {
   "cell_type": "code",
   "execution_count": 18,
   "metadata": {},
   "outputs": [
    {
     "name": "stdout",
     "output_type": "stream",
     "text": [
      "[[  1.  -1.   1.  -1.]\n",
      " [  0.  -1.  -6.   3.]\n",
      " [  0.   0. -12.  16.]]\n"
     ]
    }
   ],
   "source": [
    "def GaussSolver(A,b):\n",
    "    #DImensiones de la matriz de coeficientes\n",
    "    n = A.shape[0] #numero de ecuaciones\n",
    "    m = A.shape[1] #Numero de variables\n",
    "    \n",
    "    ##construyendo Mtriz aumentada\n",
    "    AB = np.zeros((n,m+1))\n",
    "    AB[:,0:m]=A\n",
    "\n",
    "\n",
    "    for i in range (0,len(b)): ##recorre en las filas\n",
    "        AB[i][m] = b[i]\n",
    "    \n",
    "   ##inicia eliminacion gaussiana \n",
    "    \n",
    "    i=0     # Contador sobre las filas\n",
    "    j=0     # COntador sobre las columnas\n",
    "                    \n",
    "    ##Se recorre la matriz de izq a der \n",
    "    ##recorriendo columnas               \n",
    "\n",
    "    for h in range(j,m-1):  ##hasta m-1 porque no se usa la ultima col al terminar\n",
    "        #DEterminadno la fila \n",
    "        fila_pivote = row_pivote(AB,i,h)  #fila viene dada por i y columna en el for dada por h\n",
    "        #determminando el pivote\n",
    "        pivote = AB[fila_pivote][h]\n",
    "        \n",
    "        #analizando la ubicacion del pivote, moviendo la fila del pivote a la posicion mas alta posible\n",
    "        if (fila_pivote!=i):\n",
    "            #Genereando intercambio de filas\n",
    "            AB[[fila_pivote,i]]= AB[[i,fila_pivote]]\n",
    "            #luego de esto el pivotre e esta en a fila iesima\n",
    "            \n",
    "        for k in range(i+1,n):\n",
    "            x = -AB[k][h]/pivote ##factor x=-a/pivote que multiplica a la fila que tiene el pivote\n",
    "            ## luego tomar la fila que tiene el pivote y mult por factor x\n",
    "            AB [k] = AB [k]+x*AB[i]\n",
    "            \n",
    "        j = j+1\n",
    "        i = i+1\n",
    "        \n",
    "        #Vector solucion\n",
    "        \n",
    "    return AB\n",
    "\n",
    "print (GaussSolver(A,B))"
   ]
  },
  {
   "cell_type": "code",
   "execution_count": null,
   "metadata": {},
   "outputs": [],
   "source": []
  },
  {
   "cell_type": "code",
   "execution_count": null,
   "metadata": {},
   "outputs": [],
   "source": []
  }
 ],
 "metadata": {
  "kernelspec": {
   "display_name": "Python 3",
   "language": "python",
   "name": "python3"
  },
  "language_info": {
   "codemirror_mode": {
    "name": "ipython",
    "version": 3
   },
   "file_extension": ".py",
   "mimetype": "text/x-python",
   "name": "python",
   "nbconvert_exporter": "python",
   "pygments_lexer": "ipython3",
   "version": "3.6.4"
  }
 },
 "nbformat": 4,
 "nbformat_minor": 2
}
