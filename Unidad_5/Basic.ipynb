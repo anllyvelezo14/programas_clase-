{
 "cells": [
  {
   "cell_type": "markdown",
   "metadata": {},
   "source": [
    "# Operaciones basicas con matrices"
   ]
  },
  {
   "cell_type": "code",
   "execution_count": 2,
   "metadata": {},
   "outputs": [],
   "source": [
    "import numpy as np"
   ]
  },
  {
   "cell_type": "code",
   "execution_count": 3,
   "metadata": {},
   "outputs": [],
   "source": [
    "#A = [[1,2,3],[4,5,6],[6,7,8]]\n",
    "#A = np.array(A)                                 ##Convirtiendo en arreglo a A\n",
    "\n",
    "#print(A)"
   ]
  },
  {
   "cell_type": "code",
   "execution_count": 10,
   "metadata": {},
   "outputs": [
    {
     "name": "stdout",
     "output_type": "stream",
     "text": [
      "(3, 3)\n",
      "[[ 2.  4.  6.]\n",
      " [ 8. 10. 12.]\n",
      " [13. 15. 17.]]\n"
     ]
    }
   ],
   "source": [
    "## para sumar\n",
    "\n",
    "A = [[1,2,3],[4,5,6],[7,8,9]]\n",
    "B = [[1,2,3],[4,5,6],[6,7,8]]\n",
    "\n",
    "A = np.array(A)  \n",
    "B = np.array(B) \n",
    "                                                        ##shape retorna la dimensión de la matriz nxn\n",
    "def msum(A,B):\n",
    "    if (A.shape == B.shape):                            ## Asegurandose que las dimensiones sean la misma\n",
    "        C = np.zeros(A.shape)                        # creando una matriz de ceros para llenar con la suma   \n",
    "        \n",
    "          \n",
    "        for i in range (0,A.shape[0]):        # Llenando las filas desde cero hasta el numero de filas de A    \n",
    "            for j in range (0,A.shape[1]):    # Llenando las columnas desde cero hasta el numero de colum de A      \n",
    "                C[i][j]= A[i][j]+B[i][j]          \n",
    "    return C\n",
    "    \n",
    "    \n",
    "print (A.shape)                              ## muestra la dimension (m , n) donde m filas, n columnas \n",
    "print (msum(A,B))"
   ]
  },
  {
   "cell_type": "code",
   "execution_count": 11,
   "metadata": {},
   "outputs": [
    {
     "name": "stdout",
     "output_type": "stream",
     "text": [
      "15\n"
     ]
    }
   ],
   "source": [
    "## Para obtener la traza, suma de los elementos de la diagonal\n",
    "\n",
    "def Traza(A):\n",
    "    if A.shape[0]==A.shape[1]:\n",
    "        sum = 0\n",
    "        for i in range(A.shape[0]):\n",
    "                sum+=A[i][i]\n",
    "    return sum\n",
    "\n",
    "print(Traza(A))"
   ]
  },
  {
   "cell_type": "code",
   "execution_count": 13,
   "metadata": {},
   "outputs": [
    {
     "name": "stdout",
     "output_type": "stream",
     "text": [
      "[[1. 4. 7.]\n",
      " [2. 5. 8.]\n",
      " [3. 6. 9.]]\n"
     ]
    }
   ],
   "source": [
    "##Para obetener la transpuesta, invertir el orden entre filas y columnas\n",
    "\n",
    "def Traspuesta(A):\n",
    "    ATransp=np.zeros((A.shape[0],A.shape[1]))\n",
    "    if A.shape[0]==A.shape[1]:\n",
    "        for i in range(A.shape[0]):\n",
    "            for j in range(A.shape[1]):\n",
    "                ATransp[i][j]=A[j][i]\n",
    "        return ATransp\n",
    "    \n",
    "print(Traspuesta(A))"
   ]
  },
  {
   "cell_type": "code",
   "execution_count": null,
   "metadata": {},
   "outputs": [],
   "source": []
  }
 ],
 "metadata": {
  "kernelspec": {
   "display_name": "Python 3",
   "language": "python",
   "name": "python3"
  },
  "language_info": {
   "codemirror_mode": {
    "name": "ipython",
    "version": 3
   },
   "file_extension": ".py",
   "mimetype": "text/x-python",
   "name": "python",
   "nbconvert_exporter": "python",
   "pygments_lexer": "ipython3",
   "version": "3.6.4"
  }
 },
 "nbformat": 4,
 "nbformat_minor": 2
}
